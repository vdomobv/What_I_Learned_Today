{
 "cells": [
  {
   "cell_type": "code",
   "execution_count": null,
   "metadata": {},
   "outputs": [],
   "source": [
    "A, B = map(int, input().split())\n",
    "if A-B==1 or -2:\n",
    "    print(\"A\")\n",
    "else :\n",
    "    print(\"B\")"
   ]
  },
  {
   "cell_type": "code",
   "execution_count": null,
   "metadata": {},
   "outputs": [],
   "source": [
    "a = int(input())\n",
    "result = 0\n",
    "while a>0:\n",
    "    result += a%10\n",
    "    a = a//10\n",
    "print(result)"
   ]
  },
  {
   "cell_type": "code",
   "execution_count": null,
   "metadata": {},
   "outputs": [],
   "source": [
    "T = int(input())\n",
    "\n",
    "a = list(map(int, input().split()))\n",
    "a = sorted(a)\n",
    "\n",
    "print(a[T//2])"
   ]
  },
  {
   "cell_type": "code",
   "execution_count": null,
   "metadata": {},
   "outputs": [],
   "source": [
    "T = int(input())\n",
    "\n",
    "for i in range(T):\n",
    "    a = list(map(int, input().split()))\n",
    "    print(f\"#{i+1} {max(a)}\")"
   ]
  },
  {
   "cell_type": "code",
   "execution_count": null,
   "metadata": {},
   "outputs": [],
   "source": [
    "T = int(input())\n",
    "\n",
    "for i in range(T):\n",
    "    a = list(map(int, input().split()))\n",
    "    print(f\"#{i+1} {int(round(sum(a)/len(a), 0))}\")"
   ]
  },
  {
   "cell_type": "code",
   "execution_count": null,
   "metadata": {},
   "outputs": [],
   "source": [
    "t = int(input())\n",
    "\n",
    "for i in range(t):\n",
    "    n, m = map(int, input().split())\n",
    "    arr_n = list(map(int, input().split()))\n",
    "    arr_m = list(map(int, input().split()))\n",
    "\n",
    "    longer = []\n",
    "    shorter = []\n",
    "\n",
    "    if len(arr_n) > len(arr_m):\n",
    "        longer = arr_n\n",
    "        shorter = arr_m\n",
    "    else :\n",
    "        longer = arr_m\n",
    "        shorter = arr_n\n",
    "\n",
    "    result = []\n",
    "\n",
    "    # 0,1,2 / 0,1,2\n",
    "    for k in range(len(longer)-len(shorter)+1):\n",
    "        temp = 0\n",
    "        for j in range(len(shorter)):\n",
    "            temp += shorter[j]*longer[j+k]\n",
    "        result.append(temp)\n",
    "    print(f\"#{i+1} {max(result)}\")"
   ]
  },
  {
   "cell_type": "code",
   "execution_count": null,
   "metadata": {},
   "outputs": [],
   "source": [
    "for i in range(10):\n",
    "    t = int(input())\n",
    "\n",
    "    matrix = []\n",
    "    result = []\n",
    "\n",
    "    for j in range(100):\n",
    "        matrix.append(list(map(int, input().split())))\n",
    " \n",
    "\n",
    "    for j in range(100):\n",
    "    # 행\n",
    "        result.append(sum(matrix[j]))\n",
    "        # 열\n",
    "        temp = 0    \n",
    "        for k in range(100):\n",
    "            temp += matrix[k][j]\n",
    "        result.append(temp)\n",
    "\n",
    "    \n",
    "    # 대각선\n",
    "    temp2, temp3 = 0,0\n",
    "    for j in range(100):\n",
    "        temp2 += matrix[j][j]\n",
    "        temp3 += matrix[j][99-j]\n",
    "    result.append(temp2)\n",
    "    result.append(temp3)\n",
    "\n",
    "    print(f\"{t} {max(result)}\")"
   ]
  },
  {
   "cell_type": "code",
   "execution_count": null,
   "metadata": {},
   "outputs": [],
   "source": []
  }
 ],
 "metadata": {
  "kernelspec": {
   "display_name": ".venv",
   "language": "python",
   "name": "python3"
  },
  "language_info": {
   "codemirror_mode": {
    "name": "ipython",
    "version": 3
   },
   "file_extension": ".py",
   "mimetype": "text/x-python",
   "name": "python",
   "nbconvert_exporter": "python",
   "pygments_lexer": "ipython3",
   "version": "3.9.13 (tags/v3.9.13:6de2ca5, May 17 2022, 16:36:42) [MSC v.1929 64 bit (AMD64)]"
  },
  "orig_nbformat": 4,
  "vscode": {
   "interpreter": {
    "hash": "6a065524528e7ee42efa5f6bc0669680570b9ddca99c93a2c7e022b063c178c6"
   }
  }
 },
 "nbformat": 4,
 "nbformat_minor": 2
}
