{
 "cells": [
  {
   "cell_type": "code",
   "execution_count": null,
   "metadata": {},
   "outputs": [],
   "source": [
    "A, B = map(int, input().split())\n",
    "if A-B==1 or -2:\n",
    "    print(\"A\")\n",
    "else :\n",
    "    print(\"B\")"
   ]
  },
  {
   "cell_type": "code",
   "execution_count": null,
   "metadata": {},
   "outputs": [],
   "source": [
    "a = int(input())\n",
    "result = 0\n",
    "while a>0:\n",
    "    result += a%10\n",
    "    a = a//10\n",
    "print(result)"
   ]
  },
  {
   "cell_type": "code",
   "execution_count": null,
   "metadata": {},
   "outputs": [],
   "source": [
    "T = int(input())\n",
    "\n",
    "a = list(map(int, input().split()))\n",
    "a = sorted(a)\n",
    "\n",
    "print(a[T//2])"
   ]
  },
  {
   "cell_type": "code",
   "execution_count": null,
   "metadata": {},
   "outputs": [],
   "source": [
    "T = int(input())\n",
    "\n",
    "for i in range(T):\n",
    "    a = list(map(int, input().split()))\n",
    "    print(f\"#{i+1} {max(a)}\")"
   ]
  },
  {
   "cell_type": "code",
   "execution_count": null,
   "metadata": {},
   "outputs": [],
   "source": [
    "T = int(input())\n",
    "\n",
    "for i in range(T):\n",
    "    a = list(map(int, input().split()))\n",
    "    print(f\"#{i+1} {int(round(sum(a)/len(a), 0))}\")"
   ]
  },
  {
   "cell_type": "code",
   "execution_count": null,
   "metadata": {},
   "outputs": [],
   "source": [
    "t = int(input())\n",
    "\n",
    "for i in range(t):\n",
    "    n, m = map(int, input().split())\n",
    "    arr_n = list(map(int, input().split()))\n",
    "    arr_m = list(map(int, input().split()))\n",
    "\n",
    "    longer = []\n",
    "    shorter = []\n",
    "\n",
    "    if len(arr_n) > len(arr_m):\n",
    "        longer = arr_n\n",
    "        shorter = arr_m\n",
    "    else :\n",
    "        longer = arr_m\n",
    "        shorter = arr_n\n",
    "\n",
    "    result = []\n",
    "\n",
    "    # 0,1,2 / 0,1,2\n",
    "    for k in range(len(longer)-len(shorter)+1):\n",
    "        temp = 0\n",
    "        for j in range(len(shorter)):\n",
    "            temp += shorter[j]*longer[j+k]\n",
    "        result.append(temp)\n",
    "    print(f\"#{i+1} {max(result)}\")"
   ]
  },
  {
   "cell_type": "code",
   "execution_count": null,
   "metadata": {},
   "outputs": [],
   "source": [
    "for i in range(10):\n",
    "    t = int(input())\n",
    "\n",
    "    matrix = []\n",
    "    result = []\n",
    "\n",
    "    for j in range(100):\n",
    "        matrix.append(list(map(int, input().split())))\n",
    " \n",
    "\n",
    "    for j in range(100):\n",
    "    # 행\n",
    "        result.append(sum(matrix[j]))\n",
    "        # 열\n",
    "        temp = 0    \n",
    "        for k in range(100):\n",
    "            temp += matrix[k][j]\n",
    "        result.append(temp)\n",
    "\n",
    "    \n",
    "    # 대각선\n",
    "    temp2, temp3 = 0,0\n",
    "    for j in range(100):\n",
    "        temp2 += matrix[j][j]\n",
    "        temp3 += matrix[j][99-j]\n",
    "    result.append(temp2)\n",
    "    result.append(temp3)\n",
    "\n",
    "    print(f\"{t} {max(result)}\")"
   ]
  },
  {
   "cell_type": "code",
   "execution_count": null,
   "metadata": {},
   "outputs": [],
   "source": [
    "\n",
    "import random\n",
    "import time\n",
    "\n",
    "print(\"                _               _                                                      \\n               | |             (_)                                                     \\n _ __ ___   ___| | __  ___  ___ _ ___ ___  ___  _ __ ___   _ __   __ _ _ __   ___ _ __ \\n| '__/ _ \\ / __| |/ / / __|/ __| / __/ __|/ _ \\| '__/ __| | '_ \\ / _` | '_ \\ / _ \\ '__|\\n| | | (_) | (__|   <  \\__ \\ (__| \\__ \\__ \\ (_) | |  \\__ \\ | |_) | (_| | |_) |  __/ |   \\n|_|  \\___/ \\___|_|\\_\\ |___/\\___|_|___/___/\\___/|_|  |___/ | .__/ \\__,_| .__/ \\___|_|   \\n                                                          | |         | |              \\n                                                          |_|         |_|              \\n\")\n",
    "print(\"ㅡㅡㅡㅡㅡㅡㅡㅡㅡㅡㅡㅡㅡㅡㅡㅡㅡㅡㅡㅡㅡㅡㅡㅡㅡㅡㅡㅡ\")\n",
    "print(\"|\\t   가위, 바위, 보 중 하나를 입력해주세요.   \\t|\")\n",
    "print(\"|\\t종료를 원하실 경우 '종료'를 입력해주세요.\\t|\")\n",
    "print(\"|\\t\\t결과는 3초 후에 공개됩니다.\\t\\t|\")\n",
    "print(\"ㅡㅡㅡㅡㅡㅡㅡㅡㅡㅡㅡㅡㅡㅡㅡㅡㅡㅡㅡㅡㅡㅡㅡㅡㅡㅡㅡㅡ\")\n",
    "\n",
    "while True:\n",
    "    user = input(\"==\\t\\t무엇을 낼지 입력해주세요\\t\\t==\\n\")\n",
    "    \n",
    "    \n",
    "    com = random.choice([1,2,3])\n",
    "\n",
    "    if user == '가위' or user == '바위' or user == '보':\n",
    "        if user == \"가위\":\n",
    "            user = 1\n",
    "        elif user == \"바위\":\n",
    "            user = 2\n",
    "        elif user == \"보\":\n",
    "            user = 3\n",
    "\n",
    "        \n",
    "        for i in range(3):\n",
    "            print(3-i)\n",
    "            time.sleep(1)\n",
    "        \n",
    "        if com==user:\n",
    "            print(\"  _   _      \\n | | (_)     \\n | |_ _  ___ \\n | __| |/ _ \\ \\n | |_| |  __/\\n  \\__|_|\\___|\")\n",
    "        elif com-user==1 or com-user==-2:\n",
    "            print(\"                                  _                       _       \\n                                 | |                     (_)      \\n   ___ ___  _ __ ___  _ __  _   _| |_ ___ _ __  __      ___ _ __  \\n  / __/ _ \\| '_ ` _ \\| '_ \\| | | | __/ _ \\ '__| \\ \\ /\\ / / | '_ \\ \\n | (_| (_) | | | | | | |_) | |_| | ||  __/ |     \\ V  V /| | | | |\\n  \\___\\___/|_| |_| |_| .__/ \\__,_|\\__\\___|_|      \\_/\\_/ |_|_| |_|\\n                     | |                                          \\n                     |_|                                          \\n\")\n",
    "        else :\n",
    "            print(\"                                 _       \\n                                (_)      \\n  _   _ ___  ___ _ __  __      ___ _ __  \\n | | | / __|/ _ \\ '__| \\ \\ /\\ / / | '_ \\ \\n | |_| \\__ \\  __/ |     \\ V  V /| | | | |\\n  \\__,_|___/\\___|_|      \\_/\\_/ |_|_| |_|\")\n",
    "    elif user == '종료':\n",
    "        print(\"                           /$$\\n                          | $$\\n  /$$$$$$  /$$$$$$$   /$$$$$$$\\n /$$__  $$| $$__  $$ /$$__  $$\\n| $$$$$$$$| $$  \\ $$| $$  | $$\\n| $$_____/| $$  | $$| $$  | $$\\n|  $$$$$$$| $$  | $$|  $$$$$$$\\n \\_______/|__/  |__/ \\_______/\")\n",
    "        break\n",
    "    else:\n",
    "        print(\"***** 가위, 바위, 보 중에서 입력해주세요. *****\")\n",
    "    \n",
    "    time.sleep(1)"
   ]
  },
  {
   "cell_type": "code",
   "execution_count": null,
   "metadata": {},
   "outputs": [],
   "source": [
    "print(\"                   $$\\                     $$\\            $$\\                         \\n                   $$ |                    $$ |           $$ |                        \\n $$$$$$$\\ $$$$$$\\  $$ | $$$$$$$\\ $$\\   $$\\ $$ | $$$$$$\\ $$$$$$\\    $$$$$$\\   $$$$$$\\  \\n$$  _____|\\____$$\\ $$ |$$  _____|$$ |  $$ |$$ | \\____$$\\\\_$$  _|  $$  __$$\\ $$  __$$\\ \\n$$ /      $$$$$$$ |$$ |$$ /      $$ |  $$ |$$ | $$$$$$$ | $$ |    $$ /  $$ |$$ |  \\__|\\n$$ |     $$  __$$ |$$ |$$ |      $$ |  $$ |$$ |$$  __$$ | $$ |$$\\ $$ |  $$ |$$ |      \\n\\$$$$$$$\\\\$$$$$$$ |$$ |\\$$$$$$$\\ \\$$$$$$  |$$ |\\$$$$$$$ | \\$$$$  |\\$$$$$$  |$$ |      \\n \\_______|\\_______|\\__| \\_______| \\______/ \\__| \\_______|  \\____/  \\______/ \\__|      \\n\")\n",
    "while True:\n",
    "    print(\"====== 계산할 두 숫자를 입력해주세요. \\n두 수 모두 0을 입력할 경우 종료됩니다. ======\")\n",
    "    a = float(input('n1 : '))\n",
    "    b = float(input('n2 : '))\n",
    "    if a == 0 and b==0:\n",
    "        print(\"                           /$$\\n                          | $$\\n  /$$$$$$  /$$$$$$$   /$$$$$$$\\n /$$__  $$| $$__  $$ /$$__  $$\\n| $$$$$$$$| $$  \\ $$| $$  | $$\\n| $$_____/| $$  | $$| $$  | $$\\n|  $$$$$$$| $$  | $$|  $$$$$$$\\n \\_______/|__/  |__/ \\_______/\")\n",
    "        break\n",
    "    print(\"====== 연산자는 [+,-,*,/,//(몫),%(나머지) 중에 입력해주세요. ======\")\n",
    "    cal = input(\"연산자 : \")\n",
    "\n",
    "    print('')\n",
    "\n",
    "    if cal == \"+\":\n",
    "        print(\"결과: \" , a+b)\n",
    "    elif cal == \"-\":\n",
    "        print(\"결과: \" , a-b)\n",
    "    elif cal == \"/\":\n",
    "        print(f\"결과: {a/b}\" if b!=0 else \"***** 0으로는 나눌 수 없습니다. *****\")\n",
    "    elif cal == \"*\":\n",
    "        print(\"결과: \" , a*b)\n",
    "    elif cal == \"%\":\n",
    "        print(f\"결과: {a%b}\" if b!=0 else \"***** 0으로는 나눌 수 없습니다. *****\")\n",
    "    elif cal == \"//\":\n",
    "        print(f\"결과: {a//b}\" if b!=0 else \"***** 0으로는 나눌 수 없습니다. *****\")\n",
    "    else:\n",
    "        print(\"연산자는 [+,-,*,/,//(몫),%(나머지) 중에 입력해주세요.\")\n",
    "    \n",
    "    print(\"\")"
   ]
  },
  {
   "cell_type": "code",
   "execution_count": 3,
   "metadata": {},
   "outputs": [],
   "source": [
    "# 스도쿠\n",
    "t = int(input())\n",
    "\n",
    "for i in range(t):\n",
    "    mat = []\n",
    "    for j in range(9):\n",
    "        mat.append(list(input().split()))\n",
    "    okay = True\n",
    "\n",
    "    # 행\n",
    "    for j in range(9):\n",
    "        if len(set(mat[j]))!=9:\n",
    "            okay = False\n",
    "            break\n",
    "    \n",
    "    # 열\n",
    "    for j in range(9):\n",
    "        temp = []\n",
    "        for k in range(9):\n",
    "            temp.append(mat[k][j])\n",
    "        if len(set(temp)) != 9:\n",
    "            okay = False\n",
    "            break\n",
    "    \n",
    "    # 박스\n",
    "    r = [[0,1,2],[3,4,5],[6,7,8]]\n",
    "    for j in r:\n",
    "        for k in r:\n",
    "            temp = []\n",
    "            for l in j:\n",
    "                for m in k:\n",
    "                    temp.append(mat[l][m])\n",
    "            if len(set(temp)) != 9:\n",
    "                okay = False\n",
    "                break\n",
    "    if okay:\n",
    "        print(f\"#{i+1} 1\")\n",
    "    else:\n",
    "        print(f\"#{i+1} 0\")\n",
    "    \n",
    "\n",
    "\n",
    "\"\"\"\n",
    "012,012\n",
    "012,345\n",
    "012,678\n",
    "\n",
    "345,012\n",
    "345,345\n",
    "\n",
    "\"\"\"\n",
    "\n",
    "\n",
    "\n",
    "\"\"\"\n",
    "['7', '3', '6', '4', '2', '9', '5', '8', '1']\n",
    "['5', '8', '9', '1', '6', '7', '3', '2', '4']\n",
    "['2', '1', '4', '5', '8', '3', '6', '9', '7']\n",
    "['8', '4', '7', '9', '3', '6', '1', '5', '2']\n",
    "['1', '5', '3', '8', '4', '2', '9', '7', '6']\n",
    "['9', '6', '2', '7', '5', '1', '8', '4', '3']\n",
    "['4', '2', '1', '3', '9', '8', '7', '6', '5']\n",
    "['3', '9', '5', '6', '7', '4', '2', '1', '8']\n",
    "['6', '7', '8', '2', '1', '5', '4', '3', '9']\n",
    "\"\"\""
   ]
  },
  {
   "cell_type": "code",
   "execution_count": null,
   "metadata": {},
   "outputs": [],
   "source": [
    "t = int(input())\n",
    "\n",
    "for i in range(t):\n",
    "    n = int(input())\n",
    "    arr = list(map(int, input().split()))\n",
    "    \n",
    "    result = 0\n",
    "    while len(arr) > 0:\n",
    "        m_idx = arr.index(max(arr))\n",
    "        arr2 = arr[:m_idx+1]\n",
    "        arr = arr[m_idx+1:]\n",
    "        \n",
    "        for j in range(len(arr2)):\n",
    "            result += (arr2[m_idx]-arr2[j])\n",
    "    print(f\"#{i+1} {result}\")"
   ]
  },
  {
   "cell_type": "code",
   "execution_count": null,
   "metadata": {},
   "outputs": [],
   "source": [
    "T = int(input())\n",
    "\n",
    "for tc in range(1, T+1):\n",
    "    N = int(input())\n",
    "    price = list(map(int, input().split()))\n",
    "    dp = [0] * N\n",
    "    \n",
    "    max_price = price[-1]\n",
    "    for i in range(N-2, -1, -1):\n",
    "        if max_price > price[i]:\n",
    "            dp[i+1] = max_price - price[i]\n",
    "        else:\n",
    "            max_price = price[i]\n",
    "    print(f\"#{tc}\", sum(dp))"
   ]
  },
  {
   "cell_type": "code",
   "execution_count": 7,
   "metadata": {},
   "outputs": [
    {
     "name": "stdout",
     "output_type": "stream",
     "text": [
      "#1 3 2 2 3 1 \n"
     ]
    }
   ],
   "source": [
    "t = int(input())\n",
    "\n",
    "for i in range(t):\n",
    "    n = int(input())\n",
    "    result = [0, 0, 0, 0, 0]\n",
    "    while n > 1:\n",
    "        if n % 2 == 0:\n",
    "            result[0] += 1\n",
    "            n = n/2\n",
    "        elif n % 3 == 0:\n",
    "            result[1] += 1\n",
    "            n = n/3\n",
    "        elif n % 5 == 0:\n",
    "            result[2] += 1\n",
    "            n = n/5\n",
    "        elif n % 7 == 0:\n",
    "            result[3] += 1\n",
    "            n = n/7\n",
    "        elif n % 11 == 0:\n",
    "            result[4] += 1\n",
    "            n = n/11\n",
    "    str1 = \"\"\n",
    "    for j in result:\n",
    "        str1 += (str(j) + \" \")\n",
    "    print(f\"#{i+1} {str(str1)}\")\n"
   ]
  },
  {
   "cell_type": "code",
   "execution_count": null,
   "metadata": {},
   "outputs": [],
   "source": [
    "t = int(input())\n",
    "\n",
    "for i in range(t):\n",
    "    result = 0\n",
    "    n = int(input())\n",
    "    for j in range(1, n+1):\n",
    "        result += (-j * (-1)**j)\n",
    "    print(f\"#{i+1} {result}\")\n"
   ]
  },
  {
   "cell_type": "code",
   "execution_count": null,
   "metadata": {},
   "outputs": [],
   "source": [
    "t = int(input())\n",
    "\n",
    "for i in range(t):\n",
    "    n = int(input())\n",
    "    result = str(n)\n",
    "    cnt = 1\n",
    "    while len(set(result)) < 10:\n",
    "        cnt += 1\n",
    "        m = n* cnt\n",
    "        result += str(m)\n",
    "    print(f\"#{i+1} {n*cnt}\")\n",
    "        "
   ]
  },
  {
   "cell_type": "code",
   "execution_count": null,
   "metadata": {},
   "outputs": [],
   "source": [
    "t = int(input())\n",
    "\n",
    "for i in range(t):\n",
    "    p, q, r, s, w = map(int, input().split())\n",
    "    a = w * p\n",
    "    b = q if w < r else q + (w-r)*s\n",
    "    print(f\"#{i+1} {a if a<b else b}\")"
   ]
  },
  {
   "cell_type": "code",
   "execution_count": 55,
   "metadata": {},
   "outputs": [
    {
     "name": "stdout",
     "output_type": "stream",
     "text": [
      "#1 1\n",
      "#2 0\n",
      "#3 1\n",
      "#4 1\n"
     ]
    }
   ],
   "source": [
    "t = int(input())\n",
    "for i in range(t):\n",
    "    tc = list(input())\n",
    "    if len(tc)%2==0:\n",
    "        a = \"\".join(tc[:len(tc)//2])\n",
    "        b = \"\".join(reversed(tc[len(tc)//2:]))\n",
    "    else:\n",
    "        a = \"\".join(tc[:len(tc)//2])\n",
    "        b = \"\".join(reversed(tc[len(tc)//2+1:]))\n",
    "    print(f\"#{i+1} {1 if a==b else 0}\")"
   ]
  },
  {
   "cell_type": "code",
   "execution_count": null,
   "metadata": {},
   "outputs": [],
   "source": [
    "t = int(input())\n",
    "for i in range(t):\n",
    "    tc = input()\n",
    "    cnt = 1\n",
    "    \n",
    "    while tc[:cnt+1] != tc[cnt+1:2*(cnt+1)]:\n",
    "        cnt += 1\n",
    "    print(f\"#{i+1} {cnt+1}\")"
   ]
  },
  {
   "cell_type": "code",
   "execution_count": null,
   "metadata": {},
   "outputs": [],
   "source": [
    "t = int(input())\n",
    "for i in range(t):\n",
    "    tc = input()\n",
    "    cnt = 1\n",
    "    \n",
    "    while tc[:cnt+1] != tc[cnt+1:2*(cnt+1)]:\n",
    "        cnt += 1\n",
    "    print(f\"#{i+1} {cnt+1}\")"
   ]
  },
  {
   "cell_type": "code",
   "execution_count": null,
   "metadata": {},
   "outputs": [],
   "source": [
    "t = int(input())\n",
    "\n",
    "for i in range(t):\n",
    "    n, k = map(int, input().split())\n",
    "    arr = []\n",
    "    \n",
    "    for j in range(n):\n",
    "        arr.append(input().split())\n",
    "    \n",
    "    cnt = 0\n",
    "    \n",
    "    for j in range(n):\n",
    "        temp2 = \"\".join(arr[j]).split(\"0\")\n",
    "        for l in temp2:\n",
    "            if l == \"1\"*k:\n",
    "                cnt += 1\n",
    "    \n",
    "    arr = list(zip(*arr))\n",
    "    for j in range(n):\n",
    "        temp2 = \"\".join(arr[j]).split(\"0\")\n",
    "        for l in temp2:\n",
    "            if l == \"1\"*k:\n",
    "                cnt += 1\n",
    "    \n",
    "    print(f\"#{i+1} {cnt}\")"
   ]
  },
  {
   "cell_type": "code",
   "execution_count": 11,
   "metadata": {},
   "outputs": [
    {
     "name": "stdout",
     "output_type": "stream",
     "text": [
      "#1 4\n"
     ]
    }
   ],
   "source": [
    "t = int(input())\n",
    "\n",
    "for i in range(t):\n",
    "    n = int(input())\n",
    "    arr = []\n",
    "    for j in range(n):\n",
    "        arr.append(list(map(int, input().split())))\n",
    "    \n",
    "    cur_speed = result = arr[0][1]\n",
    "    for j in range(1, n):\n",
    "        if arr[j][0] == 1:\n",
    "            cur_speed += arr[j][1]\n",
    "            result += cur_speed\n",
    "        elif arr[j][0] == 2:\n",
    "            cur_speed = cur_speed - arr[j][1] if cur_speed > arr[j][1] else 0\n",
    "            result += cur_speed\n",
    "        else:\n",
    "            result += cur_speed\n",
    "    print(f\"#{i+1} {result}\")"
   ]
  },
  {
   "cell_type": "code",
   "execution_count": 19,
   "metadata": {},
   "outputs": [
    {
     "name": "stdout",
     "output_type": "stream",
     "text": [
      "1\n",
      "2\n",
      "3\n",
      "4\n",
      "5\n"
     ]
    }
   ],
   "source": [
    "n = int(input())\n",
    "arr = []\n",
    "for i in range(n):\n",
    "    arr.append(int(input()))\n",
    "arr= list(sorted(arr))\n",
    "for i in arr:\n",
    "    print(i)"
   ]
  },
  {
   "cell_type": "code",
   "execution_count": null,
   "metadata": {},
   "outputs": [],
   "source": [
    "t = int(input())\n",
    "\n",
    "arr = [31,28,31,30,31,30,31,31,30,31,30,31]\n",
    "for i in range(t):\n",
    "    y1, d1, y2, d2 = map(int, input().split())\n",
    "    "
   ]
  },
  {
   "cell_type": "code",
   "execution_count": 21,
   "metadata": {},
   "outputs": [
    {
     "name": "stdout",
     "output_type": "stream",
     "text": [
      "34.0\n",
      "30\n"
     ]
    }
   ],
   "source": [
    "arr = []\n",
    "for i in range(5):\n",
    "    arr.append(int(input()))\n",
    "print(int(sum(arr)/len(arr)))\n",
    "print(sorted(arr)[2])"
   ]
  },
  {
   "cell_type": "code",
   "execution_count": 24,
   "metadata": {},
   "outputs": [
    {
     "name": "stdout",
     "output_type": "stream",
     "text": [
      "98\n"
     ]
    }
   ],
   "source": [
    "n, k = map(int, input().split())\n",
    "arr = map(int, input().split())\n",
    "print(sorted(arr)[-k])"
   ]
  },
  {
   "cell_type": "code",
   "execution_count": 25,
   "metadata": {},
   "outputs": [
    {
     "name": "stdout",
     "output_type": "stream",
     "text": [
      "1\n",
      "2\n",
      "3\n",
      "4\n",
      "5\n"
     ]
    }
   ],
   "source": [
    "n = int(input())\n",
    "arr = []\n",
    "for i in range(n):\n",
    "    arr.append(int(input()))\n",
    "for i in sorted(arr):\n",
    "    print(i)"
   ]
  },
  {
   "cell_type": "code",
   "execution_count": null,
   "metadata": {},
   "outputs": [],
   "source": [
    "import sys\n",
    "n = int(sys.stdin.readline())\n",
    "arr = []\n",
    "for i in range(n):\n",
    "    arr.append(sys.stdin.readline())\n",
    "\n",
    "for i in sorted(arr):\n",
    "    print(i)"
   ]
  },
  {
   "cell_type": "code",
   "execution_count": null,
   "metadata": {},
   "outputs": [],
   "source": [
    "import sys\n",
    "n = int(sys.stdin.readline())\n",
    "result = [0]*10001\n",
    "for i in range(n):\n",
    "    result[int(sys.stdin.readline())] += 1\n",
    "for i in range(10001):\n",
    "    for j in range(result[i]):\n",
    "        print(i)"
   ]
  },
  {
   "cell_type": "code",
   "execution_count": null,
   "metadata": {},
   "outputs": [],
   "source": [
    "import sys\n",
    "n = int(sys.stdin.readline())\n",
    "arr = {}\n",
    "\n",
    "for i in range(4001):\n",
    "    arr[i] = arr[-i] = 0\n",
    "\n",
    "for i in range(n):\n",
    "    arr[int(sys.stdin.readline())] += 1\n",
    "\n",
    "arr2 = [i for i in arr.items() if i[1] != 0]\n",
    "\n",
    "# 산술평균\n",
    "total = 0\n",
    "for i in arr2:\n",
    "    total += (i[0]*i[1])\n",
    "print(round(total/n))\n",
    "\n",
    "# 중앙값\n",
    "sorted_arr = sorted(i for i in arr2)\n",
    "temp = []\n",
    "for i in sorted_arr:\n",
    "    for j in range(i[1]):\n",
    "        temp.append(i[0])\n",
    "print(temp[n//2])\n",
    "\n",
    "# 최빈값\n",
    "mode = max([i[1] for i in arr2])\n",
    "arrformode = sorted([i[0] for i in arr2 if i[1] == mode])\n",
    "print(arrformode[1] if len(arrformode) >= 2 else arrformode[0])\n",
    "\n",
    "# 범위\n",
    "print(sorted_arr[-1][0] - sorted_arr[0][0])\n"
   ]
  },
  {
   "cell_type": "code",
   "execution_count": null,
   "metadata": {},
   "outputs": [],
   "source": [
    "import sys\n",
    "t = sys.stdin.readline().strip()\n",
    "arr = sorted(list(map(int, list(t))), reverse= True)\n",
    "for i in arr:\n",
    "    print(i, end=\"\")"
   ]
  },
  {
   "cell_type": "code",
   "execution_count": null,
   "metadata": {},
   "outputs": [],
   "source": [
    "import sys\n",
    "\n",
    "n = int(sys.stdin.readline())\n",
    "arr = []\n",
    "for i in range(n):\n",
    "    x, y = map(int, sys.stdin.readline().strip().split())\n",
    "    arr.append([y, x])\n",
    "\n",
    "for i in sorted(arr):\n",
    "    print(i[1],i[0])"
   ]
  },
  {
   "cell_type": "code",
   "execution_count": 83,
   "metadata": {},
   "outputs": [
    {
     "name": "stdout",
     "output_type": "stream",
     "text": [
      "\n",
      "스테이크   50,000\n",
      "+ VAT     7,500\n",
      "총계 ₩    57,500\n",
      "\n"
     ]
    }
   ],
   "source": [
    "# 출력 결과 예시\n",
    "# 스테이크   50,000\n",
    "# + VAT     7,500\n",
    "# 총계 ₩    57,500\n",
    "\n",
    "steak = 50000\n",
    "print(f\"\"\"\n",
    "스테이크{str(steak)[:2]+\",\"+str(steak)[2:]:>9}\n",
    "+ VAT{str(int(steak*.15))[:1]+\",\"+str(int(steak*.15))[1:]:>10}\n",
    "총계 ₩{str(round(steak*1.15))[:2]+\",\"+str(round(steak*1.15))[2:]:>10}\n",
    "\"\"\")\n"
   ]
  },
  {
   "cell_type": "code",
   "execution_count": null,
   "metadata": {},
   "outputs": [],
   "source": [
    "import sys\n",
    "\n",
    "n = int(sys.stdin.readline())\n",
    "arr = []\n",
    "for i in range(n):\n",
    "    a = sys.stdin.readline().strip()\n",
    "    arr.append(a)\n",
    "arr2 = list(set(arr))\n",
    "\n",
    "arr3 = []\n",
    "for i in arr2:\n",
    "    arr3.append([len(i), i])\n",
    "\n",
    "for i in sorted(arr3):\n",
    "    print(i[1])"
   ]
  },
  {
   "cell_type": "code",
   "execution_count": null,
   "metadata": {},
   "outputs": [],
   "source": [
    "import sys\n",
    "n = int(sys.stdin.readline())\n",
    "arr = []\n",
    "for i in range(n):\n",
    "    a, b = sys.stdin.readline().split()\n",
    "    arr.append([int(a), i, b])\n",
    "\n",
    "for i in sorted(arr):\n",
    "    print(i[0], i[2])"
   ]
  },
  {
   "cell_type": "code",
   "execution_count": null,
   "metadata": {},
   "outputs": [],
   "source": [
    "import sys\n",
    "\n",
    "n = int(sys.stdin.readline())\n",
    "\n",
    "arr = list(map(int, sys.stdin.readline().split()))\n",
    "\n",
    "sorted_arr = sorted(set(arr))\n",
    "arr_dict = {v:i for i, v in enumerate(sorted_arr)}\n",
    "for i in arr:\n",
    "    print(f\"{arr_dict[i]}\", end = \" \")"
   ]
  },
  {
   "cell_type": "code",
   "execution_count": null,
   "metadata": {},
   "outputs": [],
   "source": [
    "words = [\"round\" , \"dream\", \"magnet\" , \"tweet\" , \"tweet\", \"trick\", \"kiwi\"]\n",
    "\n",
    "end = words[0][-1]\n",
    "for i in range(1, len(words)):\n",
    "    if end == words[i][0] and words[i-1]!=words[i]:\n",
    "        end = words[i][-1]\n",
    "    else:\n",
    "        # 사람의 숫자(m번째 사람)은 1부터 센다고 가정\n",
    "        print(\"lose : \", i+1)\n",
    "        break\n",
    "else:\n",
    "    print(\"Pass\")\n"
   ]
  },
  {
   "cell_type": "code",
   "execution_count": null,
   "metadata": {},
   "outputs": [],
   "source": [
    "# 🥉백준 10872번 팩토리얼\n",
    "import sys\n",
    "n = int(sys.stdin.readline())\n",
    "result = 1\n",
    "for i in range(2, n+1):\n",
    "    result *= i\n",
    "print(result)"
   ]
  },
  {
   "cell_type": "code",
   "execution_count": null,
   "metadata": {},
   "outputs": [],
   "source": [
    "#🥉 10870번 피보나치 수5\n",
    "import sys\n",
    "n = int(sys.stdin.readline())\n",
    "fibo = [0]\n",
    "if n == 1:\n",
    "    fibo.append(1)\n",
    "elif n > 1:\n",
    "    fibo.append(1)\n",
    "    for i in range(2, n+1):\n",
    "        fibo.append((fibo[i-1] + fibo[i-2]))\n",
    "print(fibo[-1])"
   ]
  },
  {
   "cell_type": "code",
   "execution_count": null,
   "metadata": {},
   "outputs": [],
   "source": [
    "#🥉 25501번 재귀의 귀재\n",
    "import sys\n",
    "t = int(sys.stdin.readline())\n",
    "\n",
    "def recursion(word, l, r, cnt):\n",
    "    if l >= r:\n",
    "        cnt += 1\n",
    "        return \"1 \" + str(cnt)\n",
    "    elif s[l] != s[r]:\n",
    "        cnt += 1\n",
    "        return \"0 \" + str(cnt)\n",
    "    else:\n",
    "        cnt += 1\n",
    "        return recursion(word, l+1, r-1, cnt)\n",
    "\n",
    "def isPalindrom(word):\n",
    "    return recursion(word, 0, len(word)-1, 0)\n",
    "\n",
    "for i in range(t):\n",
    "    s = sys.stdin.readline().strip()\n",
    "    print(isPalindrom(s))\n"
   ]
  },
  {
   "cell_type": "code",
   "execution_count": null,
   "metadata": {},
   "outputs": [],
   "source": [
    "# 🥈24060번 알고리즘 수업 - 병합 정렬1\n",
    "import sys\n",
    "n, k = map(int, sys.stdin.readline().split())\n",
    "arr = list(map(int, sys.stdin.readline().split()))\n",
    "\n",
    "def merge_sort(arr):\n",
    "    if 1 < len(arr):\n",
    "        q = int(n/2)\n",
    "        merge_sort(arr[:q+1])\n",
    "        merge_sort(arr[q+1:])\n",
    "        merge(arr, 0, q, len(arr)-1)\n",
    "\n",
    "def merge(arr, p, q, r):\n",
    "    i, j, t = p, q+1, 1\n",
    "    while i <= q and j <= r:\n",
    "        if arr[i] <= arr[j]"
   ]
  },
  {
   "attachments": {},
   "cell_type": "markdown",
   "metadata": {},
   "source": [
    "![](/images/2023-01-18-10-50-17.png)"
   ]
  },
  {
   "cell_type": "code",
   "execution_count": null,
   "metadata": {},
   "outputs": [],
   "source": [
    "#🥇2447번 별 찍기 - 10 진행중\n",
    "import sys\n",
    "n = int(sys.stdin.readline())\n",
    "\n",
    "def star3():\n",
    "    for i in range(3):\n",
    "        for j in range(3):\n",
    "            if i == j == 1:\n",
    "                print(\" \", end=\"\")\n",
    "                continue\n",
    "            print(\"*\", end=\"\")\n",
    "        print(\"\")\n",
    "\n",
    "if n == 3:\n",
    "    star3()\n",
    "else:\n",
    "    n = n/3\n",
    "    \n",
    "\n"
   ]
  },
  {
   "cell_type": "code",
   "execution_count": null,
   "metadata": {},
   "outputs": [],
   "source": [
    "students = [\n",
    "    '박해피',\n",
    "    '이영희',\n",
    "    '조민지',\n",
    "    '조민지',\n",
    "    '김철수',\n",
    "    '이영희',\n",
    "    '이영희',\n",
    "    '김해킹',\n",
    "    '박해피',\n",
    "    '김철수',\n",
    "    '한케이',\n",
    "    '강디티',\n",
    "    '조민지',\n",
    "    '박해피',\n",
    "    '김철수',\n",
    "    '이영희',\n",
    "    '박해피',\n",
    "    '김해킹',\n",
    "    '박해피',\n",
    "    '한케이',\n",
    "    '강디티',\n",
    "]\n",
    "\n",
    "students_dict = {}\n",
    "for i in students:\n",
    "\n",
    "    isindict = False\n",
    "    for j in students_dict.keys():\n",
    "        if i == j:\n",
    "            isindict = True\n",
    "            break\n",
    "\n",
    "    if isindict == False:\n",
    "        students_dict[i] = 0\n",
    "    \n",
    "    for j in students_dict.keys():\n",
    "        if i == j:\n",
    "            students_dict[i] += 1\n",
    "\n",
    "# 버블정렬\n",
    "arr = list(students_dict.items())\n",
    "for i in range(len(arr)):\n",
    "    for j in range(1, len(students_dict.items())):\n",
    "        if arr[j-1][1] < arr[j][1]:\n",
    "            arr[j], arr[j-1] = arr[j-1], arr[j]\n",
    "print(arr)\n"
   ]
  },
  {
   "cell_type": "code",
   "execution_count": 3,
   "metadata": {},
   "outputs": [
    {
     "name": "stdout",
     "output_type": "stream",
     "text": [
      "[3, 4]\n"
     ]
    }
   ],
   "source": [
    "n = 5\n",
    "list2 = [[0] * n for _ in range(n)]\n",
    "\n",
    "now = [2,2]\n",
    "\n",
    "#하우우\n",
    "dx = [1, 0, 0]\n",
    "dy = [0, 1, 1]\n",
    "\n",
    "# #상하좌우\n",
    "# dx = [1, -1, 0, 0]\n",
    "# dy = [0, 0, -1, 1]\n",
    "\n",
    "# #동서남북\n",
    "# dx = [0, 0, -1, 1]\n",
    "# dy = [1, -1, 0, 0]\n",
    "\n",
    "for i in range(len(dx)):\n",
    "    now[0] += dx[i]\n",
    "    now[1] += dy[i]\n",
    "print(now)"
   ]
  },
  {
   "cell_type": "code",
   "execution_count": null,
   "metadata": {},
   "outputs": [],
   "source": [
    "# 🥈24060번 알고리즘 수업 - 병합 정렬1\n",
    "def merge_sort(arr):\n",
    "    if len(arr) == 1:\n",
    "        return arr\n",
    "    \n",
    "    q = (len(arr)+1)//2\n",
    "    left = merge_sort(arr[:q])\n",
    "    right = merge_sort(arr[q:])\n",
    "    \n",
    "    i,j = 0,0\n",
    "    arr2 = []\n",
    "    while i < len(left) and j < len(right):\n",
    "        if left[i] < right[j]:\n",
    "            arr2.append(left[i])\n",
    "            ans.append(left[i])\n",
    "            i+=1\n",
    "        else:\n",
    "            arr2.append(right[j])\n",
    "            ans.append(right[j])\n",
    "            j+=1\n",
    "    while i < len(left):\n",
    "        arr2.append(left[i])\n",
    "        ans.append(left[i])\n",
    "        i+=1\n",
    "    while j < len(right):\n",
    "        arr2.append(right[j])\n",
    "        ans.append(right[j])\n",
    "        j+=1\n",
    "    return arr2\n",
    "\n",
    "n, k = map(int,input().split())\n",
    "a = list(map(int,input().split()))\n",
    "ans = []\n",
    "\n",
    "merge_sort(a)\n",
    "print(ans[k-1] if len(ans) >= k else -1)\n"
   ]
  },
  {
   "cell_type": "code",
   "execution_count": null,
   "metadata": {},
   "outputs": [],
   "source": [
    "import sys\n",
    "n = int(sys.stdin.readline())\n",
    "\n",
    "def fn_d(n):\n",
    "    result = 0\n",
    "    for i in list(str(n)):\n",
    "        result += int(i)\n",
    "    result += n\n",
    "    return result\n",
    "\n",
    "def is_selfnumber(n):\n",
    "    for i in range(1, n):\n",
    "        if fn_d(i) == n:\n",
    "            return i\n",
    "            break\n",
    "    else:\n",
    "        return 0\n",
    "            \n",
    "print(is_selfnumber(n))"
   ]
  },
  {
   "cell_type": "code",
   "execution_count": null,
   "metadata": {},
   "outputs": [],
   "source": [
    "import sys\n",
    "\n",
    "n, m = map(int, sys.stdin.readline().split())\n",
    "arr = list(map(int, sys.stdin.readline().split()))\n",
    "\n",
    "result = []\n",
    "for i in range(len(arr)-2):\n",
    "    for j in range(i+1, len(arr)-1):\n",
    "        for k in range(j+1, len(arr)):\n",
    "            temp = arr[i]+arr[j]+arr[k]\n",
    "            if m >= temp:\n",
    "                result.append(temp)\n",
    "print(sorted(result, reverse=True)[0])"
   ]
  },
  {
   "cell_type": "code",
   "execution_count": 1,
   "metadata": {},
   "outputs": [
    {
     "name": "stdout",
     "output_type": "stream",
     "text": [
      "3\n"
     ]
    }
   ],
   "source": [
    "a = int(input())\n",
    "b = int(input())\n",
    "\n",
    "print(a+b)"
   ]
  },
  {
   "cell_type": "code",
   "execution_count": null,
   "metadata": {},
   "outputs": [],
   "source": [
    "from copy import deepcopy\n",
    "\n",
    "a = '12345'\n",
    "b = deepcopy(a)\n",
    "print(id(a))\n",
    "print(id(b))\n",
    "\n",
    "# 문자열은 불변(리스트는 가변)"
   ]
  },
  {
   "cell_type": "code",
   "execution_count": null,
   "metadata": {},
   "outputs": [],
   "source": [
    "#🥈백준 1463번 1로 만들기\n",
    "x = int(input())\n",
    "\n",
    "dp = [0] * (x+1)\n",
    "\n",
    "for i in range(2, x+1):\n",
    "    dp[i] = dp[i-1]+1\n",
    "    if i % 2 == 0:\n",
    "        dp[i] = min(dp[i], dp[i//2]+1)\n",
    "    if i % 3 == 0:\n",
    "        dp[i] = min(dp[i], dp[i//3]+1)\n",
    "\n",
    "print(dp[x])"
   ]
  },
  {
   "cell_type": "code",
   "execution_count": 9,
   "metadata": {},
   "outputs": [
    {
     "name": "stdout",
     "output_type": "stream",
     "text": [
      "30\n"
     ]
    }
   ],
   "source": [
    "#🥉10817번 세 수\n",
    "print(sorted(list(map(int, input().split())),reverse = True)[1])\n",
    "\n"
   ]
  },
  {
   "cell_type": "code",
   "execution_count": 10,
   "metadata": {},
   "outputs": [
    {
     "name": "stdout",
     "output_type": "stream",
     "text": [
      "1\n"
     ]
    }
   ],
   "source": [
    "import sys\n",
    "\n",
    "n = int(sys.stdin.readline())\n",
    "stack = []\n",
    "for i in range(n):\n",
    "    command = sys.stdin.readline().strip()\n",
    "    if command.startswith('push'):\n",
    "        stack.append(command.lstrip('push '))\n",
    "    elif command == 'pop':\n",
    "        print(stack.pop() if len(stack)> 0 else -1)\n",
    "    elif command == 'size':\n",
    "        print(len(stack))\n",
    "    elif command == 'empty':\n",
    "        print(1 if len(stack) == 0 else 0)\n",
    "    elif command == 'top':\n",
    "        print(stack[len(stack)-1] if len(stack) > 0 else -1)\n"
   ]
  },
  {
   "cell_type": "code",
   "execution_count": null,
   "metadata": {},
   "outputs": [],
   "source": [
    "#🥈백준 9012번 괄호\n",
    "n = int(input())\n",
    "for i in range(n):\n",
    "    temp = input()\n",
    "\n",
    "    while len(temp) > 1:\n",
    "        if \"()\" in temp:\n",
    "            temp = temp.replace(\"()\", \"\")\n",
    "        else:\n",
    "            break\n",
    "    \n",
    "    if len(temp)==0:\n",
    "        print('YES')\n",
    "    else:\n",
    "        print('NO')"
   ]
  },
  {
   "cell_type": "code",
   "execution_count": 8,
   "metadata": {},
   "outputs": [
    {
     "name": "stdout",
     "output_type": "stream",
     "text": [
      "3\n",
      "5\n",
      "7\n",
      "11\n",
      "13\n"
     ]
    }
   ],
   "source": [
    "import math\n",
    "m, n = map(int,input().split())\n",
    "A = [0]*(n+1)\n",
    "\n",
    "for i in range(2,n+1):\n",
    "    A[i] = i\n",
    "\n",
    "for i in range(2,int(math.sqrt(n))+1):\n",
    "    if A[i] == 0:\n",
    "        continue\n",
    "    for j in range(i+i , n+1, i):\n",
    "        A[j] = 0\n",
    "\n",
    "for i in range(2 , n+1):\n",
    "    if A[i]!=0:\n",
    "        print(i)\n"
   ]
  },
  {
   "cell_type": "code",
   "execution_count": 3,
   "metadata": {},
   "outputs": [
    {
     "name": "stdout",
     "output_type": "stream",
     "text": [
      "3\n",
      "5\n",
      "7\n",
      "11\n",
      "13\n"
     ]
    }
   ],
   "source": [
    "# 🥈백준 1929번 소수 구하기\n",
    "m, n = map(int, input().split())\n",
    "\n",
    "for i in range(m, n+1):\n",
    "    if i == 1:\n",
    "        continue\n",
    "    for j in range(2, int(i**0.5)+1):\n",
    "        # range 범위 루트 씌우는 이유 이해하는게 중요\n",
    "        if i % j == 0:\n",
    "            break\n",
    "    else:\n",
    "        print(i)"
   ]
  },
  {
   "cell_type": "code",
   "execution_count": 5,
   "metadata": {},
   "outputs": [
    {
     "name": "stdout",
     "output_type": "stream",
     "text": [
      "280\n"
     ]
    }
   ],
   "source": [
    "#🥉백준 27294번 몇개고?\n",
    "t, s = map(int, input().split())\n",
    "\n",
    "if s == 1 or t <= 11 or t>16:\n",
    "    print(280)\n",
    "elif (t >=12 and t <= 16) and s == 0:\n",
    "    print(320)"
   ]
  },
  {
   "cell_type": "code",
   "execution_count": null,
   "metadata": {},
   "outputs": [],
   "source": [
    "#🥈백준 1920번 수 찾기\n",
    "import sys\n",
    "\n",
    "n = int(sys.stdin.readline())\n",
    "arr_n = set(list(map(int, sys.stdin.readline().split())))\n",
    "\n",
    "m = int(sys.stdin.readline())\n",
    "arr_m = list(map(int, sys.stdin.readline().split()))\n",
    "\n",
    "for i in arr_m:\n",
    "    if i in arr_n:\n",
    "        print(1)\n",
    "    else:\n",
    "        print(0)"
   ]
  },
  {
   "cell_type": "code",
   "execution_count": null,
   "metadata": {},
   "outputs": [],
   "source": [
    "class Car:\n",
    "    total = 0\n",
    "    \n",
    "    def __init__(self, name, numbers):\n",
    "        self.numbers = numbers\n",
    "        self.name = name\n",
    "        self.velocity = 0\n",
    "        Car.total += 1\n",
    "\n",
    "    def accerate(self, num):\n",
    "        self.velocity += num\n",
    "    \n",
    "    def slow_down(self, num):\n",
    "        self.velocity -= num\n",
    "\n",
    "    def __str__(self):\n",
    "        return(f'이름 : {self.name}, 차량번호 : {self.numbers}, 속도 : {self.velocity}')\n",
    "\n",
    "    def __eq__(self, o):\n",
    "        if self.numbers == o.numbers:\n",
    "            return True\n",
    "        else:\n",
    "            return False\n",
    "\n",
    "avante = Car(\"아반떼\", 1234)\n",
    "casper = Car(\"캐스퍼\", 1234)\n",
    "avante.accerate(100)\n",
    "avante.slow_down(50)\n",
    "print(avante)\n",
    "print(casper)\n",
    "print(avante == casper)\n",
    "print(Car.total)"
   ]
  },
  {
   "cell_type": "code",
   "execution_count": null,
   "metadata": {},
   "outputs": [],
   "source": [
    "k, n = map(int, input().split())\n",
    "lan = [int(input()) for _ in range(k)]\n",
    "\n",
    "start, end = 1, max(lan)\n",
    "\n",
    "while start <= end:\n",
    "    mid = (start + end) // 2\n",
    "    lines = 0\n",
    "    for i in lan:\n",
    "        lines += i // mid\n",
    "    \n",
    "    if lines >= n:\n",
    "        start = mid + 1\n",
    "    else:\n",
    "        end = mid - 1\n",
    "print(end)\n"
   ]
  },
  {
   "cell_type": "code",
   "execution_count": null,
   "metadata": {},
   "outputs": [],
   "source": [
    "class Nationality:\n",
    "    def __init__(self, nationality):\n",
    "        self.nationality = nationality\n",
    "    \n",
    "    def __str__(self):\n",
    "        return f\"나의 국적은 {self.nationality}\"\n",
    "\n",
    "korea_nationality = Nationality(\"대한민국\")\n",
    "print(korea_nationality) # 나의 국적은 대한민국"
   ]
  },
  {
   "cell_type": "code",
   "execution_count": null,
   "metadata": {},
   "outputs": [],
   "source": [
    "#🥈1260번 DFS와 BFS\n",
    "from collections import deque\n",
    "n, m, v = map(int, input().split())\n",
    "graph = [[False] * (n+1) for _ in range(n+1)]\n",
    "for _ in range(m):\n",
    "    a, b = map(int, input().split())\n",
    "    graph[a][b] = True\n",
    "    graph[b][a] = True\n",
    "#bfs\n",
    "visited = [False] * (n+1)\n",
    "def bfs(v):\n",
    "q = deque([v])\n",
    "visited[v] = True\n",
    "while q:\n",
    "    v = q.popleft()\n",
    "    print(v, end=\" \")\n",
    "    for i in range(1, n+1):\n",
    "        if not visited[i] and graph[v][i]:\n",
    "            q.append(i)\n",
    "            visited[i] = True\n",
    "#dfs\n",
    "visited2 = [False] * (n+1)\n",
    "def dfs(v):\n",
    "    visited2[v] = True\n",
    "    print(v, end = \" \")\n",
    "    for i in range(1, n+1):\n",
    "        if not visited2[i] and graph[v][i]:\n",
    "            dfs(i)\n",
    "dfs(v)\n",
    "print()\n",
    "bfs(v)\n",
    "\n",
    "#✔\n",
    "#deque() : 시간 복잡도가 낮다. 양방향 queue. 앞, 뒤 양쪽으로 접근하여 element 추가 삭제 가능\n",
    "#노드를 2차원 배열로 표현하여 찾을 수 있도록 한 접근방법    "
   ]
  },
  {
   "cell_type": "code",
   "execution_count": null,
   "metadata": {},
   "outputs": [],
   "source": [
    "#🥈11399번 ATM\n",
    "n = int(input())\n",
    "time = list(map(int, input().split()))\n",
    "line = {}\n",
    "for i in range(n):\n",
    "    line[i] = time[i]\n",
    "\n",
    "arr = []\n",
    "temp = sorted(line.items(), key=lambda x:x[1])\n",
    "\n",
    "for i in temp:\n",
    "    arr.append(i[1])\n",
    "\n",
    "result = 0\n",
    "for i in range(len(arr)):\n",
    "    result += sum(arr[:i+1])\n",
    "print(result)"
   ]
  },
  {
   "cell_type": "code",
   "execution_count": null,
   "metadata": {},
   "outputs": [],
   "source": [
    "#🥈11047번 동전 0\n",
    "n, k = map(int, input().split())\n",
    "\n",
    "arr = []\n",
    "for _ in range(n):\n",
    "    arr.append(int(input()))\n",
    "\n",
    "arr.reverse()\n",
    "result = []\n",
    "for i in arr:\n",
    "    if k >= i:\n",
    "        result.append(k//i)\n",
    "        k = (k%i)\n",
    "    if k == 0:\n",
    "        break\n",
    "\n",
    "print(sum(result))"
   ]
  },
  {
   "cell_type": "code",
   "execution_count": null,
   "metadata": {},
   "outputs": [],
   "source": [
    "def hanoi(num, source, destination, via):\n",
    "    if num == 1:\n",
    "        print(f\"{source}번 기둥의 1번 원반을 {destination}번 기둥에 옮긴다.\")\n",
    "        return\n",
    "    \n",
    "    hanoi(num-1, source, via, destination)\n",
    "    print(f\"{source}번 기둥의 {num}번 원반을 {destination}번 기둥에 옮긴다.\")\n",
    "    hanoi(num-1, via, destination, source)\n",
    "        \n",
    "\n",
    "# 예시 \n",
    "hanoi(3, 'A', 'C', 'B')\n",
    "\n",
    "# A번 기둥의 1번 원반을 B번 기둥에 옮긴다.\n",
    "# A번 기둥의 2번 원반을 B번 기둥에 옮긴다.\n",
    "# B번 기둥의 1번 원반을 B번 기둥에 옮긴다.\n",
    "# A번 기둥의 3번 원반을 C번 기둥에 옮긴다.\n",
    "# B번 기둥의 1번 원반을 B번 기둥에 옮긴다.\n",
    "# B번 기둥의 2번 원반을 C번 기둥에 옮긴다.\n",
    "# B번 기둥의 1번 원반을 C번 기둥에 옮긴다."
   ]
  },
  {
   "cell_type": "code",
   "execution_count": null,
   "metadata": {},
   "outputs": [],
   "source": [
    "arr = [7, 4, 2, 0,0,6,0,7,0]\n",
    "\n",
    "result = [0] * len(arr)\n",
    "for i in range(len(arr)):\n",
    "    for j in range(i+1,len(arr)):\n",
    "        if arr[i] > arr[j]:\n",
    "            result[i] += 1\n",
    "\n",
    "max_val = result[0]\n",
    "idx = 0\n",
    "for i in range(len(result)):\n",
    "    if max_val < result[i]:\n",
    "        max_val = result[i]\n",
    "        idx = i\n",
    "\n",
    "print(max_val)\n",
    "print(idx)"
   ]
  },
  {
   "cell_type": "code",
   "execution_count": null,
   "metadata": {},
   "outputs": [],
   "source": [
    "t = int(input())\n",
    "\n",
    "for tc in range(1, t+1):\n",
    "    n = int(input())\n",
    "    arr = list(map(int, input().split()))\n",
    "    \n",
    "    for i in range(n, 1, -1):\n",
    "        for j in range(0, i-1):\n",
    "            if arr[j] > arr[j+1]:\n",
    "                arr[j], arr[j+1] = arr[j+1], arr[j]\n",
    "    \n",
    "    print(f\"#{tc} {arr[-1]-arr[0]}\")"
   ]
  },
  {
   "cell_type": "code",
   "execution_count": null,
   "metadata": {},
   "outputs": [],
   "source": [
    "t = int(input())\n",
    "\n",
    "for tc in range(1, t+1):\n",
    "    n, m = map(int, input().split())\n",
    "\n",
    "    arr = list(map(int, input().split()))\n",
    "\n",
    "    temp = [0] * (n-m+1)\n",
    "    \n",
    "    for i in range(n-m+1):\n",
    "        for j in range(m):\n",
    "            temp[i] += arr[i+j]\n",
    "    \n",
    "    maxv = minv = temp[0]\n",
    "    for i in temp:\n",
    "        if minv > i:\n",
    "            minv = i\n",
    "        if maxv < i:\n",
    "            maxv = i\n",
    "    \n",
    "    print(f\"#{tc} {maxv-minv}\")"
   ]
  },
  {
   "cell_type": "code",
   "execution_count": null,
   "metadata": {},
   "outputs": [],
   "source": [
    "# swea 전기버스\n",
    "t = int(input())\n",
    "\n",
    "for tc in range(1, t+1):\n",
    "    \n",
    "    # k : 한번 충전으로 이동할수 있는 정류장 수\n",
    "    # n : 종점\n",
    "    # m : 충전기가 설치된 정류장 번호\n",
    "    k, n, m = map(int, input().split())\n",
    "    arr = list(map(int, input().split()))\n",
    "    now = cnt = 0\n",
    "\n",
    "    while now + k < n:\n",
    "        for i in range(k, 0, -1):\n",
    "            if (now + i) in arr:\n",
    "                now += i\n",
    "                cnt += 1\n",
    "                break\n",
    "        else:\n",
    "            cnt = 0\n",
    "            break\n",
    "        \n",
    "    print(f\"#{tc} {cnt}\")\n"
   ]
  },
  {
   "cell_type": "code",
   "execution_count": null,
   "metadata": {},
   "outputs": [],
   "source": [
    "t = int(input())\n",
    "\n",
    "for tc in range(1, t+1):\n",
    "    \n",
    "    # n : 카드 장수\n",
    "    n = int(input())\n",
    "\n",
    "    arr = list(input())\n",
    "    card = {}\n",
    "\n",
    "    for i in arr:\n",
    "        card[i] = 0\n",
    "\n",
    "    for i in card.keys():\n",
    "        for j in arr:\n",
    "            if i == j:\n",
    "                card[i] += 1\n",
    "    \n",
    "    maxv = 0\n",
    "    ans = card.items()\n",
    "    print(ans)\n",
    "    for i in range(n-1, 0, -1):\n",
    "        for j in range(0, i-1):\n",
    "            if ans[j][1] > ans[j+1][1]:\n",
    "                ans[j], ans[j+1] = ans[j+1], ans[j]\n",
    "\n",
    "\n",
    "    # print(f\"#{tc} {cnt}\")\n",
    "    print(ans)\n"
   ]
  }
 ],
 "metadata": {
  "kernelspec": {
   "display_name": "Python 3",
   "language": "python",
   "name": "python3"
  },
  "language_info": {
   "codemirror_mode": {
    "name": "ipython",
    "version": 3
   },
   "file_extension": ".py",
   "mimetype": "text/x-python",
   "name": "python",
   "nbconvert_exporter": "python",
   "pygments_lexer": "ipython3",
   "version": "3.9.13 (tags/v3.9.13:6de2ca5, May 17 2022, 16:36:42) [MSC v.1929 64 bit (AMD64)]"
  },
  "orig_nbformat": 4,
  "vscode": {
   "interpreter": {
    "hash": "c4b9ebf4ca459396e2ad1150752490c26670c1a037c08cad955a4425787bec2e"
   }
  }
 },
 "nbformat": 4,
 "nbformat_minor": 2
}
