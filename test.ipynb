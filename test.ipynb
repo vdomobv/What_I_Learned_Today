{
 "cells": [
  {
   "cell_type": "code",
   "execution_count": null,
   "metadata": {},
   "outputs": [],
   "source": [
    "A, B = map(int, input().split())\n",
    "if A-B==1 or -2:\n",
    "    print(\"A\")\n",
    "else :\n",
    "    print(\"B\")"
   ]
  },
  {
   "cell_type": "code",
   "execution_count": null,
   "metadata": {},
   "outputs": [],
   "source": [
    "a = int(input())\n",
    "result = 0\n",
    "while a>0:\n",
    "    result += a%10\n",
    "    a = a//10\n",
    "print(result)"
   ]
  },
  {
   "cell_type": "code",
   "execution_count": null,
   "metadata": {},
   "outputs": [],
   "source": [
    "T = int(input())\n",
    "\n",
    "a = list(map(int, input().split()))\n",
    "a = sorted(a)\n",
    "\n",
    "print(a[T//2])"
   ]
  },
  {
   "cell_type": "code",
   "execution_count": null,
   "metadata": {},
   "outputs": [],
   "source": [
    "T = int(input())\n",
    "\n",
    "for i in range(T):\n",
    "    a = list(map(int, input().split()))\n",
    "    print(f\"#{i+1} {max(a)}\")"
   ]
  },
  {
   "cell_type": "code",
   "execution_count": null,
   "metadata": {},
   "outputs": [],
   "source": [
    "T = int(input())\n",
    "\n",
    "for i in range(T):\n",
    "    a = list(map(int, input().split()))\n",
    "    print(f\"#{i+1} {int(round(sum(a)/len(a), 0))}\")"
   ]
  },
  {
   "cell_type": "code",
   "execution_count": null,
   "metadata": {},
   "outputs": [],
   "source": [
    "t = int(input())\n",
    "\n",
    "for i in range(t):\n",
    "    n, m = map(int, input().split())\n",
    "    arr_n = list(map(int, input().split()))\n",
    "    arr_m = list(map(int, input().split()))\n",
    "\n",
    "    longer = []\n",
    "    shorter = []\n",
    "\n",
    "    if len(arr_n) > len(arr_m):\n",
    "        longer = arr_n\n",
    "        shorter = arr_m\n",
    "    else :\n",
    "        longer = arr_m\n",
    "        shorter = arr_n\n",
    "\n",
    "    result = []\n",
    "\n",
    "    # 0,1,2 / 0,1,2\n",
    "    for k in range(len(longer)-len(shorter)+1):\n",
    "        temp = 0\n",
    "        for j in range(len(shorter)):\n",
    "            temp += shorter[j]*longer[j+k]\n",
    "        result.append(temp)\n",
    "    print(f\"#{i+1} {max(result)}\")"
   ]
  },
  {
   "cell_type": "code",
   "execution_count": null,
   "metadata": {},
   "outputs": [],
   "source": [
    "for i in range(10):\n",
    "    t = int(input())\n",
    "\n",
    "    matrix = []\n",
    "    result = []\n",
    "\n",
    "    for j in range(100):\n",
    "        matrix.append(list(map(int, input().split())))\n",
    " \n",
    "\n",
    "    for j in range(100):\n",
    "    # 행\n",
    "        result.append(sum(matrix[j]))\n",
    "        # 열\n",
    "        temp = 0    \n",
    "        for k in range(100):\n",
    "            temp += matrix[k][j]\n",
    "        result.append(temp)\n",
    "\n",
    "    \n",
    "    # 대각선\n",
    "    temp2, temp3 = 0,0\n",
    "    for j in range(100):\n",
    "        temp2 += matrix[j][j]\n",
    "        temp3 += matrix[j][99-j]\n",
    "    result.append(temp2)\n",
    "    result.append(temp3)\n",
    "\n",
    "    print(f\"{t} {max(result)}\")"
   ]
  },
  {
   "cell_type": "code",
   "execution_count": null,
   "metadata": {},
   "outputs": [],
   "source": [
    "\n",
    "import random\n",
    "import time\n",
    "\n",
    "print(\"                _               _                                                      \\n               | |             (_)                                                     \\n _ __ ___   ___| | __  ___  ___ _ ___ ___  ___  _ __ ___   _ __   __ _ _ __   ___ _ __ \\n| '__/ _ \\ / __| |/ / / __|/ __| / __/ __|/ _ \\| '__/ __| | '_ \\ / _` | '_ \\ / _ \\ '__|\\n| | | (_) | (__|   <  \\__ \\ (__| \\__ \\__ \\ (_) | |  \\__ \\ | |_) | (_| | |_) |  __/ |   \\n|_|  \\___/ \\___|_|\\_\\ |___/\\___|_|___/___/\\___/|_|  |___/ | .__/ \\__,_| .__/ \\___|_|   \\n                                                          | |         | |              \\n                                                          |_|         |_|              \\n\")\n",
    "print(\"ㅡㅡㅡㅡㅡㅡㅡㅡㅡㅡㅡㅡㅡㅡㅡㅡㅡㅡㅡㅡㅡㅡㅡㅡㅡㅡㅡㅡ\")\n",
    "print(\"|\\t   가위, 바위, 보 중 하나를 입력해주세요.   \\t|\")\n",
    "print(\"|\\t종료를 원하실 경우 '종료'를 입력해주세요.\\t|\")\n",
    "print(\"|\\t\\t결과는 3초 후에 공개됩니다.\\t\\t|\")\n",
    "print(\"ㅡㅡㅡㅡㅡㅡㅡㅡㅡㅡㅡㅡㅡㅡㅡㅡㅡㅡㅡㅡㅡㅡㅡㅡㅡㅡㅡㅡ\")\n",
    "\n",
    "while True:\n",
    "    user = input(\"==\\t\\t무엇을 낼지 입력해주세요\\t\\t==\\n\")\n",
    "    \n",
    "    \n",
    "    com = random.choice([1,2,3])\n",
    "\n",
    "    if user == '가위' or user == '바위' or user == '보':\n",
    "        if user == \"가위\":\n",
    "            user = 1\n",
    "        elif user == \"바위\":\n",
    "            user = 2\n",
    "        elif user == \"보\":\n",
    "            user = 3\n",
    "\n",
    "        \n",
    "        for i in range(3):\n",
    "            print(3-i)\n",
    "            time.sleep(1)\n",
    "        \n",
    "        if com==user:\n",
    "            print(\"  _   _      \\n | | (_)     \\n | |_ _  ___ \\n | __| |/ _ \\ \\n | |_| |  __/\\n  \\__|_|\\___|\")\n",
    "        elif com-user==1 or com-user==-2:\n",
    "            print(\"                                  _                       _       \\n                                 | |                     (_)      \\n   ___ ___  _ __ ___  _ __  _   _| |_ ___ _ __  __      ___ _ __  \\n  / __/ _ \\| '_ ` _ \\| '_ \\| | | | __/ _ \\ '__| \\ \\ /\\ / / | '_ \\ \\n | (_| (_) | | | | | | |_) | |_| | ||  __/ |     \\ V  V /| | | | |\\n  \\___\\___/|_| |_| |_| .__/ \\__,_|\\__\\___|_|      \\_/\\_/ |_|_| |_|\\n                     | |                                          \\n                     |_|                                          \\n\")\n",
    "        else :\n",
    "            print(\"                                 _       \\n                                (_)      \\n  _   _ ___  ___ _ __  __      ___ _ __  \\n | | | / __|/ _ \\ '__| \\ \\ /\\ / / | '_ \\ \\n | |_| \\__ \\  __/ |     \\ V  V /| | | | |\\n  \\__,_|___/\\___|_|      \\_/\\_/ |_|_| |_|\")\n",
    "    elif user == '종료':\n",
    "        print(\"                           /$$\\n                          | $$\\n  /$$$$$$  /$$$$$$$   /$$$$$$$\\n /$$__  $$| $$__  $$ /$$__  $$\\n| $$$$$$$$| $$  \\ $$| $$  | $$\\n| $$_____/| $$  | $$| $$  | $$\\n|  $$$$$$$| $$  | $$|  $$$$$$$\\n \\_______/|__/  |__/ \\_______/\")\n",
    "        break\n",
    "    else:\n",
    "        print(\"***** 가위, 바위, 보 중에서 입력해주세요. *****\")\n",
    "    \n",
    "    time.sleep(1)"
   ]
  },
  {
   "cell_type": "code",
   "execution_count": null,
   "metadata": {},
   "outputs": [],
   "source": [
    "print(\"                   $$\\                     $$\\            $$\\                         \\n                   $$ |                    $$ |           $$ |                        \\n $$$$$$$\\ $$$$$$\\  $$ | $$$$$$$\\ $$\\   $$\\ $$ | $$$$$$\\ $$$$$$\\    $$$$$$\\   $$$$$$\\  \\n$$  _____|\\____$$\\ $$ |$$  _____|$$ |  $$ |$$ | \\____$$\\\\_$$  _|  $$  __$$\\ $$  __$$\\ \\n$$ /      $$$$$$$ |$$ |$$ /      $$ |  $$ |$$ | $$$$$$$ | $$ |    $$ /  $$ |$$ |  \\__|\\n$$ |     $$  __$$ |$$ |$$ |      $$ |  $$ |$$ |$$  __$$ | $$ |$$\\ $$ |  $$ |$$ |      \\n\\$$$$$$$\\\\$$$$$$$ |$$ |\\$$$$$$$\\ \\$$$$$$  |$$ |\\$$$$$$$ | \\$$$$  |\\$$$$$$  |$$ |      \\n \\_______|\\_______|\\__| \\_______| \\______/ \\__| \\_______|  \\____/  \\______/ \\__|      \\n\")\n",
    "while True:\n",
    "    print(\"====== 계산할 두 숫자를 입력해주세요. \\n두 수 모두 0을 입력할 경우 종료됩니다. ======\")\n",
    "    a = float(input('n1 : '))\n",
    "    b = float(input('n2 : '))\n",
    "    if a == 0 and b==0:\n",
    "        print(\"                           /$$\\n                          | $$\\n  /$$$$$$  /$$$$$$$   /$$$$$$$\\n /$$__  $$| $$__  $$ /$$__  $$\\n| $$$$$$$$| $$  \\ $$| $$  | $$\\n| $$_____/| $$  | $$| $$  | $$\\n|  $$$$$$$| $$  | $$|  $$$$$$$\\n \\_______/|__/  |__/ \\_______/\")\n",
    "        break\n",
    "    print(\"====== 연산자는 [+,-,*,/,//(몫),%(나머지) 중에 입력해주세요. ======\")\n",
    "    cal = input(\"연산자 : \")\n",
    "\n",
    "    print('')\n",
    "\n",
    "    if cal == \"+\":\n",
    "        print(\"결과: \" , a+b)\n",
    "    elif cal == \"-\":\n",
    "        print(\"결과: \" , a-b)\n",
    "    elif cal == \"/\":\n",
    "        print(f\"결과: {a/b}\" if b!=0 else \"***** 0으로는 나눌 수 없습니다. *****\")\n",
    "    elif cal == \"*\":\n",
    "        print(\"결과: \" , a*b)\n",
    "    elif cal == \"%\":\n",
    "        print(f\"결과: {a%b}\" if b!=0 else \"***** 0으로는 나눌 수 없습니다. *****\")\n",
    "    elif cal == \"//\":\n",
    "        print(f\"결과: {a//b}\" if b!=0 else \"***** 0으로는 나눌 수 없습니다. *****\")\n",
    "    else:\n",
    "        print(\"연산자는 [+,-,*,/,//(몫),%(나머지) 중에 입력해주세요.\")\n",
    "    \n",
    "    print(\"\")"
   ]
  },
  {
   "cell_type": "code",
   "execution_count": 3,
   "metadata": {},
   "outputs": [],
   "source": [
    "# 스도쿠\n",
    "t = int(input())\n",
    "\n",
    "for i in range(t):\n",
    "    mat = []\n",
    "    for j in range(9):\n",
    "        mat.append(list(input().split()))\n",
    "    okay = True\n",
    "\n",
    "    # 행\n",
    "    for j in range(9):\n",
    "        if len(set(mat[j]))!=9:\n",
    "            okay = False\n",
    "            break\n",
    "    \n",
    "    # 열\n",
    "    for j in range(9):\n",
    "        temp = []\n",
    "        for k in range(9):\n",
    "            temp.append(mat[k][j])\n",
    "        if len(set(temp)) != 9:\n",
    "            okay = False\n",
    "            break\n",
    "    \n",
    "    # 박스\n",
    "    r = [[0,1,2],[3,4,5],[6,7,8]]\n",
    "    for j in r:\n",
    "        for k in r:\n",
    "            temp = []\n",
    "            for l in j:\n",
    "                for m in k:\n",
    "                    temp.append(mat[l][m])\n",
    "            if len(set(temp)) != 9:\n",
    "                okay = False\n",
    "                break\n",
    "    if okay:\n",
    "        print(f\"#{i+1} 1\")\n",
    "    else:\n",
    "        print(f\"#{i+1} 0\")\n",
    "    \n",
    "\n",
    "\n",
    "\"\"\"\n",
    "012,012\n",
    "012,345\n",
    "012,678\n",
    "\n",
    "345,012\n",
    "345,345\n",
    "\n",
    "\"\"\"\n",
    "\n",
    "\n",
    "\n",
    "\"\"\"\n",
    "['7', '3', '6', '4', '2', '9', '5', '8', '1']\n",
    "['5', '8', '9', '1', '6', '7', '3', '2', '4']\n",
    "['2', '1', '4', '5', '8', '3', '6', '9', '7']\n",
    "['8', '4', '7', '9', '3', '6', '1', '5', '2']\n",
    "['1', '5', '3', '8', '4', '2', '9', '7', '6']\n",
    "['9', '6', '2', '7', '5', '1', '8', '4', '3']\n",
    "['4', '2', '1', '3', '9', '8', '7', '6', '5']\n",
    "['3', '9', '5', '6', '7', '4', '2', '1', '8']\n",
    "['6', '7', '8', '2', '1', '5', '4', '3', '9']\n",
    "\"\"\""
   ]
  },
  {
   "cell_type": "code",
   "execution_count": null,
   "metadata": {},
   "outputs": [],
   "source": [
    "t = int(input())\n",
    "\n",
    "for i in range(t):\n",
    "    n = int(input())\n",
    "    arr = list(map(int, input().split()))\n",
    "    \n",
    "    result = 0\n",
    "    while len(arr) > 0:\n",
    "        m_idx = arr.index(max(arr))\n",
    "        arr2 = arr[:m_idx+1]\n",
    "        arr = arr[m_idx+1:]\n",
    "        \n",
    "        for j in range(len(arr2)):\n",
    "            result += (arr2[m_idx]-arr2[j])\n",
    "    print(f\"#{i+1} {result}\")"
   ]
  },
  {
   "cell_type": "code",
   "execution_count": null,
   "metadata": {},
   "outputs": [],
   "source": [
    "T = int(input())\n",
    "\n",
    "for tc in range(1, T+1):\n",
    "    N = int(input())\n",
    "    price = list(map(int, input().split()))\n",
    "    dp = [0] * N\n",
    "    \n",
    "    max_price = price[-1]\n",
    "    for i in range(N-2, -1, -1):\n",
    "        if max_price > price[i]:\n",
    "            dp[i+1] = max_price - price[i]\n",
    "        else:\n",
    "            max_price = price[i]\n",
    "    print(f\"#{tc}\", sum(dp))"
   ]
  },
  {
   "cell_type": "code",
   "execution_count": 7,
   "metadata": {},
   "outputs": [
    {
     "name": "stdout",
     "output_type": "stream",
     "text": [
      "#1 3 2 2 3 1 \n"
     ]
    }
   ],
   "source": [
    "t = int(input())\n",
    "\n",
    "for i in range(t):\n",
    "    n = int(input())\n",
    "    result = [0, 0, 0, 0, 0]\n",
    "    while n > 1:\n",
    "        if n % 2 == 0:\n",
    "            result[0] += 1\n",
    "            n = n/2\n",
    "        elif n % 3 == 0:\n",
    "            result[1] += 1\n",
    "            n = n/3\n",
    "        elif n % 5 == 0:\n",
    "            result[2] += 1\n",
    "            n = n/5\n",
    "        elif n % 7 == 0:\n",
    "            result[3] += 1\n",
    "            n = n/7\n",
    "        elif n % 11 == 0:\n",
    "            result[4] += 1\n",
    "            n = n/11\n",
    "    str1 = \"\"\n",
    "    for j in result:\n",
    "        str1 += (str(j) + \" \")\n",
    "    print(f\"#{i+1} {str(str1)}\")\n"
   ]
  },
  {
   "cell_type": "code",
   "execution_count": null,
   "metadata": {},
   "outputs": [],
   "source": [
    "t = int(input())\n",
    "\n",
    "for i in range(t):\n",
    "    result = 0\n",
    "    n = int(input())\n",
    "    for j in range(1, n+1):\n",
    "        result += (-j * (-1)**j)\n",
    "    print(f\"#{i+1} {result}\")\n"
   ]
  },
  {
   "cell_type": "code",
   "execution_count": null,
   "metadata": {},
   "outputs": [],
   "source": [
    "t = int(input())\n",
    "\n",
    "for i in range(t):\n",
    "    n = int(input())\n",
    "    result = str(n)\n",
    "    cnt = 1\n",
    "    while len(set(result)) < 10:\n",
    "        cnt += 1\n",
    "        m = n* cnt\n",
    "        result += str(m)\n",
    "    print(f\"#{i+1} {n*cnt}\")\n",
    "        "
   ]
  },
  {
   "cell_type": "code",
   "execution_count": null,
   "metadata": {},
   "outputs": [],
   "source": [
    "t = int(input())\n",
    "\n",
    "for i in range(t):\n",
    "    p, q, r, s, w = map(int, input().split())\n",
    "    a = w * p\n",
    "    b = q if w < r else q + (w-r)*s\n",
    "    print(f\"#{i+1} {a if a<b else b}\")"
   ]
  },
  {
   "cell_type": "code",
   "execution_count": 55,
   "metadata": {},
   "outputs": [
    {
     "name": "stdout",
     "output_type": "stream",
     "text": [
      "#1 1\n",
      "#2 0\n",
      "#3 1\n",
      "#4 1\n"
     ]
    }
   ],
   "source": [
    "t = int(input())\n",
    "for i in range(t):\n",
    "    tc = list(input())\n",
    "    if len(tc)%2==0:\n",
    "        a = \"\".join(tc[:len(tc)//2])\n",
    "        b = \"\".join(reversed(tc[len(tc)//2:]))\n",
    "    else:\n",
    "        a = \"\".join(tc[:len(tc)//2])\n",
    "        b = \"\".join(reversed(tc[len(tc)//2+1:]))\n",
    "    print(f\"#{i+1} {1 if a==b else 0}\")"
   ]
  },
  {
   "cell_type": "code",
   "execution_count": null,
   "metadata": {},
   "outputs": [],
   "source": [
    "t = int(input())\n",
    "for i in range(t):\n",
    "    tc = input()\n",
    "    cnt = 1\n",
    "    \n",
    "    while tc[:cnt+1] != tc[cnt+1:2*(cnt+1)]:\n",
    "        cnt += 1\n",
    "    print(f\"#{i+1} {cnt+1}\")"
   ]
  },
  {
   "cell_type": "code",
   "execution_count": null,
   "metadata": {},
   "outputs": [],
   "source": [
    "t = int(input())\n",
    "for i in range(t):\n",
    "    tc = input()\n",
    "    cnt = 1\n",
    "    \n",
    "    while tc[:cnt+1] != tc[cnt+1:2*(cnt+1)]:\n",
    "        cnt += 1\n",
    "    print(f\"#{i+1} {cnt+1}\")"
   ]
  },
  {
   "cell_type": "code",
   "execution_count": null,
   "metadata": {},
   "outputs": [],
   "source": [
    "t = int(input())\n",
    "\n",
    "for i in range(t):\n",
    "    n, k = map(int, input().split())\n",
    "    arr = []\n",
    "    \n",
    "    for j in range(n):\n",
    "        arr.append(input().split())\n",
    "    \n",
    "    cnt = 0\n",
    "    \n",
    "    for j in range(n):\n",
    "        temp2 = \"\".join(arr[j]).split(\"0\")\n",
    "        for l in temp2:\n",
    "            if l == \"1\"*k:\n",
    "                cnt += 1\n",
    "    \n",
    "    arr = list(zip(*arr))\n",
    "    for j in range(n):\n",
    "        temp2 = \"\".join(arr[j]).split(\"0\")\n",
    "        for l in temp2:\n",
    "            if l == \"1\"*k:\n",
    "                cnt += 1\n",
    "    \n",
    "    print(f\"#{i+1} {cnt}\")"
   ]
  },
  {
   "cell_type": "code",
   "execution_count": 11,
   "metadata": {},
   "outputs": [
    {
     "name": "stdout",
     "output_type": "stream",
     "text": [
      "#1 4\n"
     ]
    }
   ],
   "source": [
    "t = int(input())\n",
    "\n",
    "for i in range(t):\n",
    "    n = int(input())\n",
    "    arr = []\n",
    "    for j in range(n):\n",
    "        arr.append(list(map(int, input().split())))\n",
    "    \n",
    "    cur_speed = result = arr[0][1]\n",
    "    for j in range(1, n):\n",
    "        if arr[j][0] == 1:\n",
    "            cur_speed += arr[j][1]\n",
    "            result += cur_speed\n",
    "        elif arr[j][0] == 2:\n",
    "            cur_speed = cur_speed - arr[j][1] if cur_speed > arr[j][1] else 0\n",
    "            result += cur_speed\n",
    "        else:\n",
    "            result += cur_speed\n",
    "    print(f\"#{i+1} {result}\")"
   ]
  },
  {
   "cell_type": "code",
   "execution_count": 19,
   "metadata": {},
   "outputs": [
    {
     "name": "stdout",
     "output_type": "stream",
     "text": [
      "1\n",
      "2\n",
      "3\n",
      "4\n",
      "5\n"
     ]
    }
   ],
   "source": [
    "n = int(input())\n",
    "arr = []\n",
    "for i in range(n):\n",
    "    arr.append(int(input()))\n",
    "arr= list(sorted(arr))\n",
    "for i in arr:\n",
    "    print(i)"
   ]
  },
  {
   "cell_type": "code",
   "execution_count": null,
   "metadata": {},
   "outputs": [],
   "source": [
    "t = int(input())\n",
    "\n",
    "arr = [31,28,31,30,31,30,31,31,30,31,30,31]\n",
    "for i in range(t):\n",
    "    y1, d1, y2, d2 = map(int, input().split())\n",
    "    "
   ]
  },
  {
   "cell_type": "code",
   "execution_count": 21,
   "metadata": {},
   "outputs": [
    {
     "name": "stdout",
     "output_type": "stream",
     "text": [
      "34.0\n",
      "30\n"
     ]
    }
   ],
   "source": [
    "arr = []\n",
    "for i in range(5):\n",
    "    arr.append(int(input()))\n",
    "print(int(sum(arr)/len(arr)))\n",
    "print(sorted(arr)[2])"
   ]
  },
  {
   "cell_type": "code",
   "execution_count": 24,
   "metadata": {},
   "outputs": [
    {
     "name": "stdout",
     "output_type": "stream",
     "text": [
      "98\n"
     ]
    }
   ],
   "source": [
    "n, k = map(int, input().split())\n",
    "arr = map(int, input().split())\n",
    "print(sorted(arr)[-k])"
   ]
  },
  {
   "cell_type": "code",
   "execution_count": 25,
   "metadata": {},
   "outputs": [
    {
     "name": "stdout",
     "output_type": "stream",
     "text": [
      "1\n",
      "2\n",
      "3\n",
      "4\n",
      "5\n"
     ]
    }
   ],
   "source": [
    "n = int(input())\n",
    "arr = []\n",
    "for i in range(n):\n",
    "    arr.append(int(input()))\n",
    "for i in sorted(arr):\n",
    "    print(i)"
   ]
  },
  {
   "cell_type": "code",
   "execution_count": null,
   "metadata": {},
   "outputs": [],
   "source": [
    "import sys\n",
    "n = int(sys.stdin.readline())\n",
    "arr = []\n",
    "for i in range(n):\n",
    "    arr.append(sys.stdin.readline())\n",
    "\n",
    "for i in sorted(arr):\n",
    "    print(i)"
   ]
  },
  {
   "cell_type": "code",
   "execution_count": null,
   "metadata": {},
   "outputs": [],
   "source": [
    "import sys\n",
    "n = int(sys.stdin.readline())\n",
    "result = [0]*10001\n",
    "for i in range(n):\n",
    "    result[int(sys.stdin.readline())] += 1\n",
    "for i in range(10001):\n",
    "    for j in range(result[i]):\n",
    "        print(i)"
   ]
  },
  {
   "cell_type": "code",
   "execution_count": null,
   "metadata": {},
   "outputs": [],
   "source": [
    "import sys\n",
    "n = int(sys.stdin.readline())\n",
    "arr = {}\n",
    "\n",
    "for i in range(4001):\n",
    "    arr[i] = arr[-i] = 0\n",
    "\n",
    "for i in range(n):\n",
    "    arr[int(sys.stdin.readline())] += 1\n",
    "\n",
    "arr2 = [i for i in arr.items() if i[1] != 0]\n",
    "\n",
    "# 산술평균\n",
    "total = 0\n",
    "for i in arr2:\n",
    "    total += (i[0]*i[1])\n",
    "print(round(total/n))\n",
    "\n",
    "# 중앙값\n",
    "sorted_arr = sorted(i for i in arr2)\n",
    "temp = []\n",
    "for i in sorted_arr:\n",
    "    for j in range(i[1]):\n",
    "        temp.append(i[0])\n",
    "print(temp[n//2])\n",
    "\n",
    "# 최빈값\n",
    "mode = max([i[1] for i in arr2])\n",
    "arrformode = sorted([i[0] for i in arr2 if i[1] == mode])\n",
    "print(arrformode[1] if len(arrformode) >= 2 else arrformode[0])\n",
    "\n",
    "# 범위\n",
    "print(sorted_arr[-1][0] - sorted_arr[0][0])\n"
   ]
  },
  {
   "cell_type": "code",
   "execution_count": null,
   "metadata": {},
   "outputs": [],
   "source": [
    "import sys\n",
    "t = sys.stdin.readline().strip()\n",
    "arr = sorted(list(map(int, list(t))), reverse= True)\n",
    "for i in arr:\n",
    "    print(i, end=\"\")"
   ]
  },
  {
   "cell_type": "code",
   "execution_count": null,
   "metadata": {},
   "outputs": [],
   "source": [
    "import sys\n",
    "\n",
    "n = int(sys.stdin.readline())\n",
    "arr = []\n",
    "for i in range(n):\n",
    "    x, y = map(int, sys.stdin.readline().strip().split())\n",
    "    arr.append([y, x])\n",
    "\n",
    "for i in sorted(arr):\n",
    "    print(i[1],i[0])"
   ]
  }
 ],
 "metadata": {
  "kernelspec": {
   "display_name": ".venv",
   "language": "python",
   "name": "python3"
  },
  "language_info": {
   "codemirror_mode": {
    "name": "ipython",
    "version": 3
   },
   "file_extension": ".py",
   "mimetype": "text/x-python",
   "name": "python",
   "nbconvert_exporter": "python",
   "pygments_lexer": "ipython3",
   "version": "3.9.13 (tags/v3.9.13:6de2ca5, May 17 2022, 16:36:42) [MSC v.1929 64 bit (AMD64)]"
  },
  "orig_nbformat": 4,
  "vscode": {
   "interpreter": {
    "hash": "6a065524528e7ee42efa5f6bc0669680570b9ddca99c93a2c7e022b063c178c6"
   }
  }
 },
 "nbformat": 4,
 "nbformat_minor": 2
}
