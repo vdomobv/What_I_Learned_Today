{
 "cells": [
  {
   "cell_type": "code",
   "execution_count": null,
   "metadata": {},
   "outputs": [],
   "source": [
    "A, B = map(int, input().split())\n",
    "if A-B==1 or -2:\n",
    "    print(\"A\")\n",
    "else :\n",
    "    print(\"B\")"
   ]
  },
  {
   "cell_type": "code",
   "execution_count": null,
   "metadata": {},
   "outputs": [],
   "source": [
    "a = int(input())\n",
    "result = 0\n",
    "while a>0:\n",
    "    result += a%10\n",
    "    a = a//10\n",
    "print(result)"
   ]
  },
  {
   "cell_type": "code",
   "execution_count": null,
   "metadata": {},
   "outputs": [],
   "source": [
    "T = int(input())\n",
    "\n",
    "a = list(map(int, input().split()))\n",
    "a = sorted(a)\n",
    "\n",
    "print(a[T//2])"
   ]
  },
  {
   "cell_type": "code",
   "execution_count": null,
   "metadata": {},
   "outputs": [],
   "source": [
    "T = int(input())\n",
    "\n",
    "for i in range(T):\n",
    "    a = list(map(int, input().split()))\n",
    "    print(f\"#{i+1} {max(a)}\")"
   ]
  },
  {
   "cell_type": "code",
   "execution_count": null,
   "metadata": {},
   "outputs": [],
   "source": [
    "T = int(input())\n",
    "\n",
    "for i in range(T):\n",
    "    a = list(map(int, input().split()))\n",
    "    print(f\"#{i+1} {int(round(sum(a)/len(a), 0))}\")"
   ]
  },
  {
   "cell_type": "code",
   "execution_count": null,
   "metadata": {},
   "outputs": [],
   "source": [
    "t = int(input())\n",
    "\n",
    "for i in range(t):\n",
    "    n, m = map(int, input().split())\n",
    "    arr_n = list(map(int, input().split()))\n",
    "    arr_m = list(map(int, input().split()))\n",
    "\n",
    "    longer = []\n",
    "    shorter = []\n",
    "\n",
    "    if len(arr_n) > len(arr_m):\n",
    "        longer = arr_n\n",
    "        shorter = arr_m\n",
    "    else :\n",
    "        longer = arr_m\n",
    "        shorter = arr_n\n",
    "\n",
    "    result = []\n",
    "\n",
    "    # 0,1,2 / 0,1,2\n",
    "    for k in range(len(longer)-len(shorter)+1):\n",
    "        temp = 0\n",
    "        for j in range(len(shorter)):\n",
    "            temp += shorter[j]*longer[j+k]\n",
    "        result.append(temp)\n",
    "    print(f\"#{i+1} {max(result)}\")"
   ]
  },
  {
   "cell_type": "code",
   "execution_count": null,
   "metadata": {},
   "outputs": [],
   "source": [
    "for i in range(10):\n",
    "    t = int(input())\n",
    "\n",
    "    matrix = []\n",
    "    result = []\n",
    "\n",
    "    for j in range(100):\n",
    "        matrix.append(list(map(int, input().split())))\n",
    " \n",
    "\n",
    "    for j in range(100):\n",
    "    # 행\n",
    "        result.append(sum(matrix[j]))\n",
    "        # 열\n",
    "        temp = 0    \n",
    "        for k in range(100):\n",
    "            temp += matrix[k][j]\n",
    "        result.append(temp)\n",
    "\n",
    "    \n",
    "    # 대각선\n",
    "    temp2, temp3 = 0,0\n",
    "    for j in range(100):\n",
    "        temp2 += matrix[j][j]\n",
    "        temp3 += matrix[j][99-j]\n",
    "    result.append(temp2)\n",
    "    result.append(temp3)\n",
    "\n",
    "    print(f\"{t} {max(result)}\")"
   ]
  },
  {
   "cell_type": "code",
   "execution_count": null,
   "metadata": {},
   "outputs": [],
   "source": [
    "\n",
    "    import random\n",
    "import time\n",
    "\n",
    "print(\"                _               _                                                      \\n               | |             (_)                                                     \\n _ __ ___   ___| | __  ___  ___ _ ___ ___  ___  _ __ ___   _ __   __ _ _ __   ___ _ __ \\n| '__/ _ \\ / __| |/ / / __|/ __| / __/ __|/ _ \\| '__/ __| | '_ \\ / _` | '_ \\ / _ \\ '__|\\n| | | (_) | (__|   <  \\__ \\ (__| \\__ \\__ \\ (_) | |  \\__ \\ | |_) | (_| | |_) |  __/ |   \\n|_|  \\___/ \\___|_|\\_\\ |___/\\___|_|___/___/\\___/|_|  |___/ | .__/ \\__,_| .__/ \\___|_|   \\n                                                          | |         | |              \\n                                                          |_|         |_|              \\n\")\n",
    "print(\"ㅡㅡㅡㅡㅡㅡㅡㅡㅡㅡㅡㅡㅡㅡㅡㅡㅡㅡㅡㅡㅡㅡㅡㅡㅡㅡㅡㅡ\")\n",
    "print(\"|\\t   가위, 바위, 보 중 하나를 입력해주세요.   \\t|\")\n",
    "print(\"|\\t종료를 원하실 경우 '종료'를 입력해주세요.\\t|\")\n",
    "print(\"|\\t\\t결과는 3초 후에 공개됩니다.\\t\\t|\")\n",
    "print(\"ㅡㅡㅡㅡㅡㅡㅡㅡㅡㅡㅡㅡㅡㅡㅡㅡㅡㅡㅡㅡㅡㅡㅡㅡㅡㅡㅡㅡ\")\n",
    "\n",
    "while True:\n",
    "    user = input(\"==\\t\\t무엇을 낼지 입력해주세요\\t\\t==\\n\")\n",
    "    \n",
    "    \n",
    "    com = random.choice([1,2,3])\n",
    "\n",
    "    if user == '가위' or user == '바위' or user == '보':\n",
    "        if user == \"가위\":\n",
    "            user = 1\n",
    "        elif user == \"바위\":\n",
    "            user = 2\n",
    "        elif user == \"보\":\n",
    "            user = 3\n",
    "\n",
    "        \n",
    "        for i in range(3):\n",
    "            print(3-i)\n",
    "            time.sleep(1)\n",
    "        \n",
    "        if com==user:\n",
    "            print(\"  _   _      \\n | | (_)     \\n | |_ _  ___ \\n | __| |/ _ \\ \\n | |_| |  __/\\n  \\__|_|\\___|\")\n",
    "        elif com-user==1 or com-user==-2:\n",
    "            print(\"                                  _                       _       \\n                                 | |                     (_)      \\n   ___ ___  _ __ ___  _ __  _   _| |_ ___ _ __  __      ___ _ __  \\n  / __/ _ \\| '_ ` _ \\| '_ \\| | | | __/ _ \\ '__| \\ \\ /\\ / / | '_ \\ \\n | (_| (_) | | | | | | |_) | |_| | ||  __/ |     \\ V  V /| | | | |\\n  \\___\\___/|_| |_| |_| .__/ \\__,_|\\__\\___|_|      \\_/\\_/ |_|_| |_|\\n                     | |                                          \\n                     |_|                                          \\n\")\n",
    "        else :\n",
    "            print(\"                                 _       \\n                                (_)      \\n  _   _ ___  ___ _ __  __      ___ _ __  \\n | | | / __|/ _ \\ '__| \\ \\ /\\ / / | '_ \\ \\n | |_| \\__ \\  __/ |     \\ V  V /| | | | |\\n  \\__,_|___/\\___|_|      \\_/\\_/ |_|_| |_|\")\n",
    "    elif user == '종료':\n",
    "        print(\"                           /$$\\n                          | $$\\n  /$$$$$$  /$$$$$$$   /$$$$$$$\\n /$$__  $$| $$__  $$ /$$__  $$\\n| $$$$$$$$| $$  \\ $$| $$  | $$\\n| $$_____/| $$  | $$| $$  | $$\\n|  $$$$$$$| $$  | $$|  $$$$$$$\\n \\_______/|__/  |__/ \\_______/\")\n",
    "        break\n",
    "    else:\n",
    "        print(\"***** 가위, 바위, 보 중에서 입력해주세요. *****\")\n",
    "    \n",
    "    time.sleep(1)\n",
    "\n",
    "\n",
    "    "
   ]
  },
  {
   "cell_type": "code",
   "execution_count": null,
   "metadata": {},
   "outputs": [],
   "source": [
    "print(\"                   $$\\                     $$\\            $$\\                         \\n                   $$ |                    $$ |           $$ |                        \\n $$$$$$$\\ $$$$$$\\  $$ | $$$$$$$\\ $$\\   $$\\ $$ | $$$$$$\\ $$$$$$\\    $$$$$$\\   $$$$$$\\  \\n$$  _____|\\____$$\\ $$ |$$  _____|$$ |  $$ |$$ | \\____$$\\\\_$$  _|  $$  __$$\\ $$  __$$\\ \\n$$ /      $$$$$$$ |$$ |$$ /      $$ |  $$ |$$ | $$$$$$$ | $$ |    $$ /  $$ |$$ |  \\__|\\n$$ |     $$  __$$ |$$ |$$ |      $$ |  $$ |$$ |$$  __$$ | $$ |$$\\ $$ |  $$ |$$ |      \\n\\$$$$$$$\\\\$$$$$$$ |$$ |\\$$$$$$$\\ \\$$$$$$  |$$ |\\$$$$$$$ | \\$$$$  |\\$$$$$$  |$$ |      \\n \\_______|\\_______|\\__| \\_______| \\______/ \\__| \\_______|  \\____/  \\______/ \\__|      \\n\")\n",
    "while True:\n",
    "    print(\"====== 계산할 두 숫자를 입력해주세요. \\n두 수 모두 0을 입력할 경우 종료됩니다. ======\")\n",
    "    a = float(input('n1 : '))\n",
    "    b = float(input('n2 : '))\n",
    "    if a == 0 and b==0:\n",
    "        print(\"                           /$$\\n                          | $$\\n  /$$$$$$  /$$$$$$$   /$$$$$$$\\n /$$__  $$| $$__  $$ /$$__  $$\\n| $$$$$$$$| $$  \\ $$| $$  | $$\\n| $$_____/| $$  | $$| $$  | $$\\n|  $$$$$$$| $$  | $$|  $$$$$$$\\n \\_______/|__/  |__/ \\_______/\")\n",
    "        break\n",
    "    print(\"====== 연산자는 [+,-,*,/,//(몫),%(나머지) 중에 입력해주세요. ======\")\n",
    "    cal = input(\"연산자 : \")\n",
    "\n",
    "    print('')\n",
    "\n",
    "    if cal == \"+\":\n",
    "        print(\"결과: \" , a+b)\n",
    "    elif cal == \"-\":\n",
    "        print(\"결과: \" , a-b)\n",
    "    elif cal == \"/\":\n",
    "        print(f\"결과: {a/b}\" if b!=0 else \"***** 0으로는 나눌 수 없습니다. *****\")\n",
    "    elif cal == \"*\":\n",
    "        print(\"결과: \" , a*b)\n",
    "    elif cal == \"%\":\n",
    "        print(f\"결과: {a%b}\" if b!=0 else \"***** 0으로는 나눌 수 없습니다. *****\")\n",
    "    elif cal == \"//\":\n",
    "        print(f\"결과: {a//b}\" if b!=0 else \"***** 0으로는 나눌 수 없습니다. *****\")\n",
    "    else:\n",
    "        print(\"연산자는 [+,-,*,/,//(몫),%(나머지) 중에 입력해주세요.\")\n",
    "    \n",
    "    print(\"\")\n",
    "    "
   ]
  }
 ],
 "metadata": {
  "kernelspec": {
   "display_name": ".venv",
   "language": "python",
   "name": "python3"
  },
  "language_info": {
   "codemirror_mode": {
    "name": "ipython",
    "version": 3
   },
   "file_extension": ".py",
   "mimetype": "text/x-python",
   "name": "python",
   "nbconvert_exporter": "python",
   "pygments_lexer": "ipython3",
   "version": "3.9.13 (tags/v3.9.13:6de2ca5, May 17 2022, 16:36:42) [MSC v.1929 64 bit (AMD64)]"
  },
  "orig_nbformat": 4,
  "vscode": {
   "interpreter": {
    "hash": "6a065524528e7ee42efa5f6bc0669680570b9ddca99c93a2c7e022b063c178c6"
   }
  }
 },
 "nbformat": 4,
 "nbformat_minor": 2
}
