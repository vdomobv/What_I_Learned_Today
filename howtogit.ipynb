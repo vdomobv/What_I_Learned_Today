{
 "cells": [
  {
   "attachments": {},
   "cell_type": "markdown",
   "metadata": {},
   "source": [
    "- git 설치\n",
    "- github 회원가입 (나중에 ssafy 에서 제공하는 gitlab 사용 예정)"
   ]
  },
  {
   "attachments": {},
   "cell_type": "markdown",
   "metadata": {},
   "source": [
    "git 이 관리하는 3가지 영역\n",
    "\n",
    "- Working Directory : 사용자의 작업이 이루어지는 곳\n",
    "- Staging Area ( = Index) : 커밋을 위한 파일, 폴더가 추가되는 곳\n",
    "- Repository : staging area 에 있던 파일 및 폴더의 변경사항을 저장하는 곳\n",
    "\n",
    "Working Directory => Staging Area => Repository 의 과정으로 버전관리를 수행합니다."
   ]
  },
  {
   "attachments": {},
   "cell_type": "markdown",
   "metadata": {},
   "source": [
    "```\n",
    "Git 사용자 이름과 이메일 설정\n",
    "```\n",
    "git config --global user.name Your Name\n",
    "\n",
    "git config --global user.email you@example.com\n",
    "\n",
    "```\n",
    "git init\n",
    "```\n",
    "\n",
    "- 현재 작업중인 디렉토리를 Git 으로 관리한다는 명령어\n",
    "- .git 이라는 숨김 폴더를 생성하고, 터미널에는 master라고 표기됩니다.\n",
    "\n",
    "주의사항\n",
    "\n",
    "1. 이미 Git으로 관리되고있는 (Git 저장소인) 폴더 안에서 또다른 Git 저장소를 만들지 않도록 주의합니다! (중첩 금지) => 터미널에 이미 (master) 가 표시되어 있다면 git init 라는 명령어를 입력하지 않는다.\n",
    "2. 절대로 홈디렉토리에서 git init 을 입력하지 않는다. (터미널의 경로가 ~ 인지 확인합니다.)"
   ]
  },
  {
   "attachments": {},
   "cell_type": "markdown",
   "metadata": {},
   "source": [
    "```\n",
    "git status\n",
    "```\n",
    "\n",
    "- Working Directory 와 Staging Area에 있는 파일의 현재 상태를 알려주는 명령어\n",
    "- 어떤 작업을 시행하기 전에 수시로 status로 현재 상태를 확인하면 좋습니다.\n",
    "\n",
    "파일의 상태??\n",
    "\n",
    "1. Untracked : Git이 관리하지 않는 파일(한번도 Staging Area에 올라간적이 없는 파일)\n",
    "2. Tracked : Git이 관리하는 파일\n",
    "    1. Unmodified : 최신상태\n",
    "    2. Modified : 수정되었지만 아직 Staging Area 에는 올라가지 않은 상태\n",
    "    3. Staged : Staging Area에 올라간 상태\n",
    "\n"
   ]
  },
  {
   "attachments": {},
   "cell_type": "markdown",
   "metadata": {},
   "source": [
    "```touch a.txt```\n",
    "- a.txt 파일 생성하는 bash 명령어"
   ]
  },
  {
   "attachments": {},
   "cell_type": "markdown",
   "metadata": {},
   "source": [
    "```\n",
    "git add\n",
    "```\n",
    "\n",
    "- Working Directory에 있는 파일을 Staging Area로 올리는 명령어\n",
    "- Git 이 해당 파일을 추적(관리) 할 수 있도록 만든다.\n",
    "- Untracked, Modified => Staged 로 상태를 변경한다.\n",
    "\n",
    "1. 파일 하나만 올리기\n",
    "```\n",
    "git add 파일이름\n",
    "```\n",
    "\n",
    "2. 폴더 올리기\n",
    "```\n",
    "git add 폴더이름\n",
    "```\n",
    "\n",
    "3. 현재 디렉토리에 속한 파일/폴더 전부\n",
    "```\n",
    "git add .\n",
    "```"
   ]
  },
  {
   "attachments": {},
   "cell_type": "markdown",
   "metadata": {},
   "source": [
    "```\n",
    "git commit\n",
    "```\n",
    "\n",
    "- Staging Area에 올라온 파일의 변경사항을 하나의 버전(커밋)으로 저장하는 명령어\n",
    "- 커밋 메시지는 현재 변경사항들을 잘 나타낼수 있도록 의미있게 작성하는 것을 권장합니다.\n",
    "- 각각의 커밋은 sha-1 알고리즘에 의해 반환된 고유의 해시값을 ID로 가진다.\n",
    "- root coomit 은 해당 커밋이 최초의 커밋일 때만 표시된다.\n",
    "\n",
    "```\n",
    "git commit -m \"커밋메시지\"\n",
    "```\n",
    "\n"
   ]
  },
  {
   "attachments": {},
   "cell_type": "markdown",
   "metadata": {},
   "source": [
    "```\n",
    "git log\n",
    "```\n",
    "\n",
    "- 커밋 내역(ID, 작성자, 시간, 메시지)을 조회할 수 있는 명령어\n",
    "- 옵션\n",
    "    - ```--online``` : 한줄로 축약해서 보여준다.\n",
    "    - ```--graph``` : 브랜치와 머지 내역을 그래프로 보여준다."
   ]
  },
  {
   "attachments": {},
   "cell_type": "markdown",
   "metadata": {},
   "source": [
    "## 원격 저장소에 업로드\n",
    "\n",
    "- 파일을 Github 원격 저장소에 업로드\n",
    "- 정확히 말하면, 파일을 업로드하는게 아니라 커밋 내역을 업로드 하는것\n",
    "- 로컬 저장소에서 커밋을 생성해야 원격 저장소에 업로드 할수 있다.\n",
    "\n",
    "```\n",
    "git remote add 원격저장소주소\n",
    "```\n",
    "\n",
    "- 원격저장소와 연동하기\n",
    "\n",
    "```\n",
    "git push\n",
    "```\n",
    "\n",
    "- 로컬저장소 커밋을 원격 저장소에 업로드 하는 명령어\n",
    "- ```git push 저장소이름 브랜치이름``` 형식으로 작성합니다.\n",
    "- ```-u``` 옵션을 사용하면, 두번째 커밋부터는 저장소이름과 브랜치이름 생략 가능"
   ]
  },
  {
   "attachments": {},
   "cell_type": "markdown",
   "metadata": {},
   "source": [
    "```git push origin master```"
   ]
  },
  {
   "attachments": {},
   "cell_type": "markdown",
   "metadata": {},
   "source": [
    "## 원격 저장소 가져오기\n",
    "\n",
    "```\n",
    "git clone\n",
    "```\n",
    "\n",
    "- 원격 저장소의 커밋 내역을 모두 가져와서, 로컬 저장소를 생성하는 명령어\n",
    "- clone \"복제\" 라는뜻으로, ```git clone``` 명령어를 사용하면 원격 저장소를 통째로 복제해서 내 컴퓨터에 옮길수 있다.\n",
    "  \n",
    "```\n",
    "git clone 원격저장소주소\n",
    "```\n",
    "\n",
    "- git clone을 통해 생성된 로컬저장소는 git init , git remote add 가 이미 수행되어 있습니다.\n"
   ]
  },
  {
   "attachments": {},
   "cell_type": "markdown",
   "metadata": {},
   "source": [
    "```\n",
    "git pull\n",
    "```\n",
    "\n",
    "- 원격 저장소의 변경 사항을 가져와서, 로컬 저장소를 업데이트 하는 명령어\n",
    "- 로컬 저장소와 원격 저장소의 내용이 완전 일치하면, git pull 을 해도 아무런 변화가 일어나지 않습니다.\n",
    "\n",
    "```\n",
    "git pull 저장소이름 브랜치이름\n",
    "```\n",
    "\n",
    "```\n",
    "git pull origin master\n",
    "```"
   ]
  },
  {
   "attachments": {},
   "cell_type": "markdown",
   "metadata": {},
   "source": [
    "### .gitignore\n",
    "\n",
    "개인정보 같이 git 버전 관리에서 제외할 파일 목록을 지정하는 파일\n",
    "\n",
    "```\n",
    "사용방법\n",
    "```\n",
    "- 반드시 이름이 .gitignore인 파일을 생성 (파일 맨 앞이 .이면 숨김 파일이라는 뜻)\n",
    "- .gitignore 파일은 .git 폴더와 동일한 위치에 생성한다.\n",
    "- 버전 관리에서 제외하고 싶은 파일은 반드시 git add 하기 전에 작성할 것9한번 이 되면 이후에 .gitignore에 작성하더라도 무시되지 않음)\n",
    "\n",
    "```\n",
    "쉽게 작성하는 방법\n",
    "```\n",
    "- .gitignore 파일의 내용을 쉽게 작성할수 있도록 도와주는 사이트\n",
    "- [링크](https://gitignore.io)\n",
    "- 자신이 사용하고 있는 프로그래밍 언어, 프레임워크 검색 후 추가\n",
    "- 생성된 내용을 복사해서 .gitignore 파일에 붙여넣기\n",
    "- 절대로 확장자명이 달라서는 안된다.\n",
    "\n",
    "```\n",
    "직접 작성하는 방법\n",
    "```\n",
    "\n",
    "```\n",
    ".gitigonre 패턴규칙\n",
    "```\n",
    "\n",
    "1. 아무것도 없는 라인, #으로 시작하는 라인은 무시합니다.\n",
    "2. 디렉토리는 슬래시(/)를 끝에 사용하는 것으로 표현합니다.\n",
    "3. 표준 Glob 패턴을 사용ㅎㄴ다.\n",
    "    1. *는 문자가 하나도 없거나 하나 이상을 의미합니다.\n",
    "    2. [abc]는 괄호 안에 문자 하나를 의미합니다.\n",
    "    3. ? 는 문자 하나를 의미합니다.\n",
    "    4. [0-9]는 괄호 안에 문자 하나를 의미합니다.\n",
    "    5. **는 디렉토리 내부의 디렉토리까지 지정할 수 있다(중첩, 재귀)\n",
    "        1. (a/**/z 라고 작성하면 a/z, a/b/z, a/b/c/z 까지 모두 영향을 끼치게 된다.)\n",
    "4. !로 시작하는 패턴의 파일은 ignore(무시)하지 않습니다.\n"
   ]
  }
 ],
 "metadata": {
  "kernelspec": {
   "display_name": ".venv",
   "language": "python",
   "name": "python3"
  },
  "language_info": {
   "name": "python",
   "version": "3.9.13 (tags/v3.9.13:6de2ca5, May 17 2022, 16:36:42) [MSC v.1929 64 bit (AMD64)]"
  },
  "orig_nbformat": 4,
  "vscode": {
   "interpreter": {
    "hash": "6a065524528e7ee42efa5f6bc0669680570b9ddca99c93a2c7e022b063c178c6"
   }
  }
 },
 "nbformat": 4,
 "nbformat_minor": 2
}
